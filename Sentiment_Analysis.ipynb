{
  "nbformat": 4,
  "nbformat_minor": 0,
  "metadata": {
    "colab": {
      "name": "Sentiment Analysis.ipynb",
      "provenance": [],
      "toc_visible": true
    },
    "kernelspec": {
      "display_name": "Python 3",
      "name": "python3"
    },
    "language_info": {
      "name": "python"
    },
    "widgets": {
      "application/vnd.jupyter.widget-state+json": {
        "2e1d8174083d4a84bce06fab87b59619": {
          "model_module": "@jupyter-widgets/controls",
          "model_name": "HBoxModel",
          "state": {
            "_view_name": "HBoxView",
            "_dom_classes": [],
            "_model_name": "HBoxModel",
            "_view_module": "@jupyter-widgets/controls",
            "_model_module_version": "1.5.0",
            "_view_count": null,
            "_view_module_version": "1.5.0",
            "box_style": "",
            "layout": "IPY_MODEL_3d39bf3ee19445dda5fe8e0be87b5d1e",
            "_model_module": "@jupyter-widgets/controls",
            "children": [
              "IPY_MODEL_98a2a98bcaf3403cbb9a480d04d1cd1c",
              "IPY_MODEL_315e5a17872d48fbbeb8305f5d4c2d3b"
            ]
          }
        },
        "3d39bf3ee19445dda5fe8e0be87b5d1e": {
          "model_module": "@jupyter-widgets/base",
          "model_name": "LayoutModel",
          "state": {
            "_view_name": "LayoutView",
            "grid_template_rows": null,
            "right": null,
            "justify_content": null,
            "_view_module": "@jupyter-widgets/base",
            "overflow": null,
            "_model_module_version": "1.2.0",
            "_view_count": null,
            "flex_flow": null,
            "width": null,
            "min_width": null,
            "border": null,
            "align_items": null,
            "bottom": null,
            "_model_module": "@jupyter-widgets/base",
            "top": null,
            "grid_column": null,
            "overflow_y": null,
            "overflow_x": null,
            "grid_auto_flow": null,
            "grid_area": null,
            "grid_template_columns": null,
            "flex": null,
            "_model_name": "LayoutModel",
            "justify_items": null,
            "grid_row": null,
            "max_height": null,
            "align_content": null,
            "visibility": null,
            "align_self": null,
            "height": null,
            "min_height": null,
            "padding": null,
            "grid_auto_rows": null,
            "grid_gap": null,
            "max_width": null,
            "order": null,
            "_view_module_version": "1.2.0",
            "grid_template_areas": null,
            "object_position": null,
            "object_fit": null,
            "grid_auto_columns": null,
            "margin": null,
            "display": null,
            "left": null
          }
        },
        "98a2a98bcaf3403cbb9a480d04d1cd1c": {
          "model_module": "@jupyter-widgets/controls",
          "model_name": "FloatProgressModel",
          "state": {
            "_view_name": "ProgressView",
            "style": "IPY_MODEL_749c828ac6954e67a29a3730750752ae",
            "_dom_classes": [],
            "description": "100%",
            "_model_name": "FloatProgressModel",
            "bar_style": "success",
            "max": 156060,
            "_view_module": "@jupyter-widgets/controls",
            "_model_module_version": "1.5.0",
            "value": 156060,
            "_view_count": null,
            "_view_module_version": "1.5.0",
            "orientation": "horizontal",
            "min": 0,
            "description_tooltip": null,
            "_model_module": "@jupyter-widgets/controls",
            "layout": "IPY_MODEL_c91d5baa76054c63ae02d985d7bd8a47"
          }
        },
        "315e5a17872d48fbbeb8305f5d4c2d3b": {
          "model_module": "@jupyter-widgets/controls",
          "model_name": "HTMLModel",
          "state": {
            "_view_name": "HTMLView",
            "style": "IPY_MODEL_8cd5cb4919a14908a2410b9c2eaef38d",
            "_dom_classes": [],
            "description": "",
            "_model_name": "HTMLModel",
            "placeholder": "​",
            "_view_module": "@jupyter-widgets/controls",
            "_model_module_version": "1.5.0",
            "value": " 156060/156060 [04:49&lt;00:00, 539.48it/s]",
            "_view_count": null,
            "_view_module_version": "1.5.0",
            "description_tooltip": null,
            "_model_module": "@jupyter-widgets/controls",
            "layout": "IPY_MODEL_bd474b727c4342639a39ad98b193e77d"
          }
        },
        "749c828ac6954e67a29a3730750752ae": {
          "model_module": "@jupyter-widgets/controls",
          "model_name": "ProgressStyleModel",
          "state": {
            "_view_name": "StyleView",
            "_model_name": "ProgressStyleModel",
            "description_width": "initial",
            "_view_module": "@jupyter-widgets/base",
            "_model_module_version": "1.5.0",
            "_view_count": null,
            "_view_module_version": "1.2.0",
            "bar_color": null,
            "_model_module": "@jupyter-widgets/controls"
          }
        },
        "c91d5baa76054c63ae02d985d7bd8a47": {
          "model_module": "@jupyter-widgets/base",
          "model_name": "LayoutModel",
          "state": {
            "_view_name": "LayoutView",
            "grid_template_rows": null,
            "right": null,
            "justify_content": null,
            "_view_module": "@jupyter-widgets/base",
            "overflow": null,
            "_model_module_version": "1.2.0",
            "_view_count": null,
            "flex_flow": null,
            "width": null,
            "min_width": null,
            "border": null,
            "align_items": null,
            "bottom": null,
            "_model_module": "@jupyter-widgets/base",
            "top": null,
            "grid_column": null,
            "overflow_y": null,
            "overflow_x": null,
            "grid_auto_flow": null,
            "grid_area": null,
            "grid_template_columns": null,
            "flex": null,
            "_model_name": "LayoutModel",
            "justify_items": null,
            "grid_row": null,
            "max_height": null,
            "align_content": null,
            "visibility": null,
            "align_self": null,
            "height": null,
            "min_height": null,
            "padding": null,
            "grid_auto_rows": null,
            "grid_gap": null,
            "max_width": null,
            "order": null,
            "_view_module_version": "1.2.0",
            "grid_template_areas": null,
            "object_position": null,
            "object_fit": null,
            "grid_auto_columns": null,
            "margin": null,
            "display": null,
            "left": null
          }
        },
        "8cd5cb4919a14908a2410b9c2eaef38d": {
          "model_module": "@jupyter-widgets/controls",
          "model_name": "DescriptionStyleModel",
          "state": {
            "_view_name": "StyleView",
            "_model_name": "DescriptionStyleModel",
            "description_width": "",
            "_view_module": "@jupyter-widgets/base",
            "_model_module_version": "1.5.0",
            "_view_count": null,
            "_view_module_version": "1.2.0",
            "_model_module": "@jupyter-widgets/controls"
          }
        },
        "bd474b727c4342639a39ad98b193e77d": {
          "model_module": "@jupyter-widgets/base",
          "model_name": "LayoutModel",
          "state": {
            "_view_name": "LayoutView",
            "grid_template_rows": null,
            "right": null,
            "justify_content": null,
            "_view_module": "@jupyter-widgets/base",
            "overflow": null,
            "_model_module_version": "1.2.0",
            "_view_count": null,
            "flex_flow": null,
            "width": null,
            "min_width": null,
            "border": null,
            "align_items": null,
            "bottom": null,
            "_model_module": "@jupyter-widgets/base",
            "top": null,
            "grid_column": null,
            "overflow_y": null,
            "overflow_x": null,
            "grid_auto_flow": null,
            "grid_area": null,
            "grid_template_columns": null,
            "flex": null,
            "_model_name": "LayoutModel",
            "justify_items": null,
            "grid_row": null,
            "max_height": null,
            "align_content": null,
            "visibility": null,
            "align_self": null,
            "height": null,
            "min_height": null,
            "padding": null,
            "grid_auto_rows": null,
            "grid_gap": null,
            "max_width": null,
            "order": null,
            "_view_module_version": "1.2.0",
            "grid_template_areas": null,
            "object_position": null,
            "object_fit": null,
            "grid_auto_columns": null,
            "margin": null,
            "display": null,
            "left": null
          }
        },
        "202b1f0d57ec4ca3949ac4c17f585420": {
          "model_module": "@jupyter-widgets/controls",
          "model_name": "HBoxModel",
          "state": {
            "_view_name": "HBoxView",
            "_dom_classes": [],
            "_model_name": "HBoxModel",
            "_view_module": "@jupyter-widgets/controls",
            "_model_module_version": "1.5.0",
            "_view_count": null,
            "_view_module_version": "1.5.0",
            "box_style": "",
            "layout": "IPY_MODEL_25828b7b1e884707979ad4a035565452",
            "_model_module": "@jupyter-widgets/controls",
            "children": [
              "IPY_MODEL_9b64cd1b23684161a9eb8d733d6f4988",
              "IPY_MODEL_b08b8ea55bf0488a9dc52b08ee105d8b"
            ]
          }
        },
        "25828b7b1e884707979ad4a035565452": {
          "model_module": "@jupyter-widgets/base",
          "model_name": "LayoutModel",
          "state": {
            "_view_name": "LayoutView",
            "grid_template_rows": null,
            "right": null,
            "justify_content": null,
            "_view_module": "@jupyter-widgets/base",
            "overflow": null,
            "_model_module_version": "1.2.0",
            "_view_count": null,
            "flex_flow": null,
            "width": null,
            "min_width": null,
            "border": null,
            "align_items": null,
            "bottom": null,
            "_model_module": "@jupyter-widgets/base",
            "top": null,
            "grid_column": null,
            "overflow_y": null,
            "overflow_x": null,
            "grid_auto_flow": null,
            "grid_area": null,
            "grid_template_columns": null,
            "flex": null,
            "_model_name": "LayoutModel",
            "justify_items": null,
            "grid_row": null,
            "max_height": null,
            "align_content": null,
            "visibility": null,
            "align_self": null,
            "height": null,
            "min_height": null,
            "padding": null,
            "grid_auto_rows": null,
            "grid_gap": null,
            "max_width": null,
            "order": null,
            "_view_module_version": "1.2.0",
            "grid_template_areas": null,
            "object_position": null,
            "object_fit": null,
            "grid_auto_columns": null,
            "margin": null,
            "display": null,
            "left": null
          }
        },
        "9b64cd1b23684161a9eb8d733d6f4988": {
          "model_module": "@jupyter-widgets/controls",
          "model_name": "FloatProgressModel",
          "state": {
            "_view_name": "ProgressView",
            "style": "IPY_MODEL_b6261a389bb34ad4a060d029ab5f3951",
            "_dom_classes": [],
            "description": "100%",
            "_model_name": "FloatProgressModel",
            "bar_style": "success",
            "max": 66292,
            "_view_module": "@jupyter-widgets/controls",
            "_model_module_version": "1.5.0",
            "value": 66292,
            "_view_count": null,
            "_view_module_version": "1.5.0",
            "orientation": "horizontal",
            "min": 0,
            "description_tooltip": null,
            "_model_module": "@jupyter-widgets/controls",
            "layout": "IPY_MODEL_578a648684f448dba0783af55bd293ea"
          }
        },
        "b08b8ea55bf0488a9dc52b08ee105d8b": {
          "model_module": "@jupyter-widgets/controls",
          "model_name": "HTMLModel",
          "state": {
            "_view_name": "HTMLView",
            "style": "IPY_MODEL_e8610d6eff5e44cd9ec5fccf5b75362e",
            "_dom_classes": [],
            "description": "",
            "_model_name": "HTMLModel",
            "placeholder": "​",
            "_view_module": "@jupyter-widgets/controls",
            "_model_module_version": "1.5.0",
            "value": " 66292/66292 [01:23&lt;00:00, 795.88it/s]",
            "_view_count": null,
            "_view_module_version": "1.5.0",
            "description_tooltip": null,
            "_model_module": "@jupyter-widgets/controls",
            "layout": "IPY_MODEL_1cc057fe387449cbade30bf9721b9d71"
          }
        },
        "b6261a389bb34ad4a060d029ab5f3951": {
          "model_module": "@jupyter-widgets/controls",
          "model_name": "ProgressStyleModel",
          "state": {
            "_view_name": "StyleView",
            "_model_name": "ProgressStyleModel",
            "description_width": "initial",
            "_view_module": "@jupyter-widgets/base",
            "_model_module_version": "1.5.0",
            "_view_count": null,
            "_view_module_version": "1.2.0",
            "bar_color": null,
            "_model_module": "@jupyter-widgets/controls"
          }
        },
        "578a648684f448dba0783af55bd293ea": {
          "model_module": "@jupyter-widgets/base",
          "model_name": "LayoutModel",
          "state": {
            "_view_name": "LayoutView",
            "grid_template_rows": null,
            "right": null,
            "justify_content": null,
            "_view_module": "@jupyter-widgets/base",
            "overflow": null,
            "_model_module_version": "1.2.0",
            "_view_count": null,
            "flex_flow": null,
            "width": null,
            "min_width": null,
            "border": null,
            "align_items": null,
            "bottom": null,
            "_model_module": "@jupyter-widgets/base",
            "top": null,
            "grid_column": null,
            "overflow_y": null,
            "overflow_x": null,
            "grid_auto_flow": null,
            "grid_area": null,
            "grid_template_columns": null,
            "flex": null,
            "_model_name": "LayoutModel",
            "justify_items": null,
            "grid_row": null,
            "max_height": null,
            "align_content": null,
            "visibility": null,
            "align_self": null,
            "height": null,
            "min_height": null,
            "padding": null,
            "grid_auto_rows": null,
            "grid_gap": null,
            "max_width": null,
            "order": null,
            "_view_module_version": "1.2.0",
            "grid_template_areas": null,
            "object_position": null,
            "object_fit": null,
            "grid_auto_columns": null,
            "margin": null,
            "display": null,
            "left": null
          }
        },
        "e8610d6eff5e44cd9ec5fccf5b75362e": {
          "model_module": "@jupyter-widgets/controls",
          "model_name": "DescriptionStyleModel",
          "state": {
            "_view_name": "StyleView",
            "_model_name": "DescriptionStyleModel",
            "description_width": "",
            "_view_module": "@jupyter-widgets/base",
            "_model_module_version": "1.5.0",
            "_view_count": null,
            "_view_module_version": "1.2.0",
            "_model_module": "@jupyter-widgets/controls"
          }
        },
        "1cc057fe387449cbade30bf9721b9d71": {
          "model_module": "@jupyter-widgets/base",
          "model_name": "LayoutModel",
          "state": {
            "_view_name": "LayoutView",
            "grid_template_rows": null,
            "right": null,
            "justify_content": null,
            "_view_module": "@jupyter-widgets/base",
            "overflow": null,
            "_model_module_version": "1.2.0",
            "_view_count": null,
            "flex_flow": null,
            "width": null,
            "min_width": null,
            "border": null,
            "align_items": null,
            "bottom": null,
            "_model_module": "@jupyter-widgets/base",
            "top": null,
            "grid_column": null,
            "overflow_y": null,
            "overflow_x": null,
            "grid_auto_flow": null,
            "grid_area": null,
            "grid_template_columns": null,
            "flex": null,
            "_model_name": "LayoutModel",
            "justify_items": null,
            "grid_row": null,
            "max_height": null,
            "align_content": null,
            "visibility": null,
            "align_self": null,
            "height": null,
            "min_height": null,
            "padding": null,
            "grid_auto_rows": null,
            "grid_gap": null,
            "max_width": null,
            "order": null,
            "_view_module_version": "1.2.0",
            "grid_template_areas": null,
            "object_position": null,
            "object_fit": null,
            "grid_auto_columns": null,
            "margin": null,
            "display": null,
            "left": null
          }
        },
        "e3d1cae84b7340a4910eed6993815c3e": {
          "model_module": "@jupyter-widgets/controls",
          "model_name": "HBoxModel",
          "state": {
            "_view_name": "HBoxView",
            "_dom_classes": [],
            "_model_name": "HBoxModel",
            "_view_module": "@jupyter-widgets/controls",
            "_model_module_version": "1.5.0",
            "_view_count": null,
            "_view_module_version": "1.5.0",
            "box_style": "",
            "layout": "IPY_MODEL_33d4fdabb8234675a5550024d310ead0",
            "_model_module": "@jupyter-widgets/controls",
            "children": [
              "IPY_MODEL_ded2c8ad184348d0ab60614872b9c97f",
              "IPY_MODEL_f109557d8535452fbe0ad342afbda899"
            ]
          }
        },
        "33d4fdabb8234675a5550024d310ead0": {
          "model_module": "@jupyter-widgets/base",
          "model_name": "LayoutModel",
          "state": {
            "_view_name": "LayoutView",
            "grid_template_rows": null,
            "right": null,
            "justify_content": null,
            "_view_module": "@jupyter-widgets/base",
            "overflow": null,
            "_model_module_version": "1.2.0",
            "_view_count": null,
            "flex_flow": null,
            "width": null,
            "min_width": null,
            "border": null,
            "align_items": null,
            "bottom": null,
            "_model_module": "@jupyter-widgets/base",
            "top": null,
            "grid_column": null,
            "overflow_y": null,
            "overflow_x": null,
            "grid_auto_flow": null,
            "grid_area": null,
            "grid_template_columns": null,
            "flex": null,
            "_model_name": "LayoutModel",
            "justify_items": null,
            "grid_row": null,
            "max_height": null,
            "align_content": null,
            "visibility": null,
            "align_self": null,
            "height": null,
            "min_height": null,
            "padding": null,
            "grid_auto_rows": null,
            "grid_gap": null,
            "max_width": null,
            "order": null,
            "_view_module_version": "1.2.0",
            "grid_template_areas": null,
            "object_position": null,
            "object_fit": null,
            "grid_auto_columns": null,
            "margin": null,
            "display": null,
            "left": null
          }
        },
        "ded2c8ad184348d0ab60614872b9c97f": {
          "model_module": "@jupyter-widgets/controls",
          "model_name": "FloatProgressModel",
          "state": {
            "_view_name": "ProgressView",
            "style": "IPY_MODEL_3c63ede65efa4a9bb87ffafc412ba706",
            "_dom_classes": [],
            "description": "100%",
            "_model_name": "FloatProgressModel",
            "bar_style": "success",
            "max": 25000,
            "_view_module": "@jupyter-widgets/controls",
            "_model_module_version": "1.5.0",
            "value": 25000,
            "_view_count": null,
            "_view_module_version": "1.5.0",
            "orientation": "horizontal",
            "min": 0,
            "description_tooltip": null,
            "_model_module": "@jupyter-widgets/controls",
            "layout": "IPY_MODEL_73277cf15c204267adb376cbbf37e339"
          }
        },
        "f109557d8535452fbe0ad342afbda899": {
          "model_module": "@jupyter-widgets/controls",
          "model_name": "HTMLModel",
          "state": {
            "_view_name": "HTMLView",
            "style": "IPY_MODEL_60d2f29c2cb742e0b8bb6bb26a07fbe0",
            "_dom_classes": [],
            "description": "",
            "_model_name": "HTMLModel",
            "placeholder": "​",
            "_view_module": "@jupyter-widgets/controls",
            "_model_module_version": "1.5.0",
            "value": " 25000/25000 [14:57&lt;00:00, 27.86it/s]",
            "_view_count": null,
            "_view_module_version": "1.5.0",
            "description_tooltip": null,
            "_model_module": "@jupyter-widgets/controls",
            "layout": "IPY_MODEL_681cd7a2965945418a9cf7be974d2103"
          }
        },
        "3c63ede65efa4a9bb87ffafc412ba706": {
          "model_module": "@jupyter-widgets/controls",
          "model_name": "ProgressStyleModel",
          "state": {
            "_view_name": "StyleView",
            "_model_name": "ProgressStyleModel",
            "description_width": "initial",
            "_view_module": "@jupyter-widgets/base",
            "_model_module_version": "1.5.0",
            "_view_count": null,
            "_view_module_version": "1.2.0",
            "bar_color": null,
            "_model_module": "@jupyter-widgets/controls"
          }
        },
        "73277cf15c204267adb376cbbf37e339": {
          "model_module": "@jupyter-widgets/base",
          "model_name": "LayoutModel",
          "state": {
            "_view_name": "LayoutView",
            "grid_template_rows": null,
            "right": null,
            "justify_content": null,
            "_view_module": "@jupyter-widgets/base",
            "overflow": null,
            "_model_module_version": "1.2.0",
            "_view_count": null,
            "flex_flow": null,
            "width": null,
            "min_width": null,
            "border": null,
            "align_items": null,
            "bottom": null,
            "_model_module": "@jupyter-widgets/base",
            "top": null,
            "grid_column": null,
            "overflow_y": null,
            "overflow_x": null,
            "grid_auto_flow": null,
            "grid_area": null,
            "grid_template_columns": null,
            "flex": null,
            "_model_name": "LayoutModel",
            "justify_items": null,
            "grid_row": null,
            "max_height": null,
            "align_content": null,
            "visibility": null,
            "align_self": null,
            "height": null,
            "min_height": null,
            "padding": null,
            "grid_auto_rows": null,
            "grid_gap": null,
            "max_width": null,
            "order": null,
            "_view_module_version": "1.2.0",
            "grid_template_areas": null,
            "object_position": null,
            "object_fit": null,
            "grid_auto_columns": null,
            "margin": null,
            "display": null,
            "left": null
          }
        },
        "60d2f29c2cb742e0b8bb6bb26a07fbe0": {
          "model_module": "@jupyter-widgets/controls",
          "model_name": "DescriptionStyleModel",
          "state": {
            "_view_name": "StyleView",
            "_model_name": "DescriptionStyleModel",
            "description_width": "",
            "_view_module": "@jupyter-widgets/base",
            "_model_module_version": "1.5.0",
            "_view_count": null,
            "_view_module_version": "1.2.0",
            "_model_module": "@jupyter-widgets/controls"
          }
        },
        "681cd7a2965945418a9cf7be974d2103": {
          "model_module": "@jupyter-widgets/base",
          "model_name": "LayoutModel",
          "state": {
            "_view_name": "LayoutView",
            "grid_template_rows": null,
            "right": null,
            "justify_content": null,
            "_view_module": "@jupyter-widgets/base",
            "overflow": null,
            "_model_module_version": "1.2.0",
            "_view_count": null,
            "flex_flow": null,
            "width": null,
            "min_width": null,
            "border": null,
            "align_items": null,
            "bottom": null,
            "_model_module": "@jupyter-widgets/base",
            "top": null,
            "grid_column": null,
            "overflow_y": null,
            "overflow_x": null,
            "grid_auto_flow": null,
            "grid_area": null,
            "grid_template_columns": null,
            "flex": null,
            "_model_name": "LayoutModel",
            "justify_items": null,
            "grid_row": null,
            "max_height": null,
            "align_content": null,
            "visibility": null,
            "align_self": null,
            "height": null,
            "min_height": null,
            "padding": null,
            "grid_auto_rows": null,
            "grid_gap": null,
            "max_width": null,
            "order": null,
            "_view_module_version": "1.2.0",
            "grid_template_areas": null,
            "object_position": null,
            "object_fit": null,
            "grid_auto_columns": null,
            "margin": null,
            "display": null,
            "left": null
          }
        },
        "8a3443efdd36418a8d549fec4df69216": {
          "model_module": "@jupyter-widgets/controls",
          "model_name": "HBoxModel",
          "state": {
            "_view_name": "HBoxView",
            "_dom_classes": [],
            "_model_name": "HBoxModel",
            "_view_module": "@jupyter-widgets/controls",
            "_model_module_version": "1.5.0",
            "_view_count": null,
            "_view_module_version": "1.5.0",
            "box_style": "",
            "layout": "IPY_MODEL_b25dde32f2ba4a0a9893a019b5ef1d07",
            "_model_module": "@jupyter-widgets/controls",
            "children": [
              "IPY_MODEL_590353c37a3c42efa393d632e753d0d2",
              "IPY_MODEL_1d7c99245d11475981208f2abc2d1567"
            ]
          }
        },
        "b25dde32f2ba4a0a9893a019b5ef1d07": {
          "model_module": "@jupyter-widgets/base",
          "model_name": "LayoutModel",
          "state": {
            "_view_name": "LayoutView",
            "grid_template_rows": null,
            "right": null,
            "justify_content": null,
            "_view_module": "@jupyter-widgets/base",
            "overflow": null,
            "_model_module_version": "1.2.0",
            "_view_count": null,
            "flex_flow": null,
            "width": null,
            "min_width": null,
            "border": null,
            "align_items": null,
            "bottom": null,
            "_model_module": "@jupyter-widgets/base",
            "top": null,
            "grid_column": null,
            "overflow_y": null,
            "overflow_x": null,
            "grid_auto_flow": null,
            "grid_area": null,
            "grid_template_columns": null,
            "flex": null,
            "_model_name": "LayoutModel",
            "justify_items": null,
            "grid_row": null,
            "max_height": null,
            "align_content": null,
            "visibility": null,
            "align_self": null,
            "height": null,
            "min_height": null,
            "padding": null,
            "grid_auto_rows": null,
            "grid_gap": null,
            "max_width": null,
            "order": null,
            "_view_module_version": "1.2.0",
            "grid_template_areas": null,
            "object_position": null,
            "object_fit": null,
            "grid_auto_columns": null,
            "margin": null,
            "display": null,
            "left": null
          }
        },
        "590353c37a3c42efa393d632e753d0d2": {
          "model_module": "@jupyter-widgets/controls",
          "model_name": "FloatProgressModel",
          "state": {
            "_view_name": "ProgressView",
            "style": "IPY_MODEL_51201e5f9be44659afbed08021085536",
            "_dom_classes": [],
            "description": "100%",
            "_model_name": "FloatProgressModel",
            "bar_style": "success",
            "max": 156060,
            "_view_module": "@jupyter-widgets/controls",
            "_model_module_version": "1.5.0",
            "value": 156060,
            "_view_count": null,
            "_view_module_version": "1.5.0",
            "orientation": "horizontal",
            "min": 0,
            "description_tooltip": null,
            "_model_module": "@jupyter-widgets/controls",
            "layout": "IPY_MODEL_cc1768d0bd7c4f3cb684c4dba3c36154"
          }
        },
        "1d7c99245d11475981208f2abc2d1567": {
          "model_module": "@jupyter-widgets/controls",
          "model_name": "HTMLModel",
          "state": {
            "_view_name": "HTMLView",
            "style": "IPY_MODEL_2d65ceea4829493e9a2ce7e5f6cf4e1b",
            "_dom_classes": [],
            "description": "",
            "_model_name": "HTMLModel",
            "placeholder": "​",
            "_view_module": "@jupyter-widgets/controls",
            "_model_module_version": "1.5.0",
            "value": " 156060/156060 [00:14&lt;00:00, 10857.33it/s]",
            "_view_count": null,
            "_view_module_version": "1.5.0",
            "description_tooltip": null,
            "_model_module": "@jupyter-widgets/controls",
            "layout": "IPY_MODEL_51ad0f5d117f4bd4975c16ebd00c6d6a"
          }
        },
        "51201e5f9be44659afbed08021085536": {
          "model_module": "@jupyter-widgets/controls",
          "model_name": "ProgressStyleModel",
          "state": {
            "_view_name": "StyleView",
            "_model_name": "ProgressStyleModel",
            "description_width": "initial",
            "_view_module": "@jupyter-widgets/base",
            "_model_module_version": "1.5.0",
            "_view_count": null,
            "_view_module_version": "1.2.0",
            "bar_color": null,
            "_model_module": "@jupyter-widgets/controls"
          }
        },
        "cc1768d0bd7c4f3cb684c4dba3c36154": {
          "model_module": "@jupyter-widgets/base",
          "model_name": "LayoutModel",
          "state": {
            "_view_name": "LayoutView",
            "grid_template_rows": null,
            "right": null,
            "justify_content": null,
            "_view_module": "@jupyter-widgets/base",
            "overflow": null,
            "_model_module_version": "1.2.0",
            "_view_count": null,
            "flex_flow": null,
            "width": null,
            "min_width": null,
            "border": null,
            "align_items": null,
            "bottom": null,
            "_model_module": "@jupyter-widgets/base",
            "top": null,
            "grid_column": null,
            "overflow_y": null,
            "overflow_x": null,
            "grid_auto_flow": null,
            "grid_area": null,
            "grid_template_columns": null,
            "flex": null,
            "_model_name": "LayoutModel",
            "justify_items": null,
            "grid_row": null,
            "max_height": null,
            "align_content": null,
            "visibility": null,
            "align_self": null,
            "height": null,
            "min_height": null,
            "padding": null,
            "grid_auto_rows": null,
            "grid_gap": null,
            "max_width": null,
            "order": null,
            "_view_module_version": "1.2.0",
            "grid_template_areas": null,
            "object_position": null,
            "object_fit": null,
            "grid_auto_columns": null,
            "margin": null,
            "display": null,
            "left": null
          }
        },
        "2d65ceea4829493e9a2ce7e5f6cf4e1b": {
          "model_module": "@jupyter-widgets/controls",
          "model_name": "DescriptionStyleModel",
          "state": {
            "_view_name": "StyleView",
            "_model_name": "DescriptionStyleModel",
            "description_width": "",
            "_view_module": "@jupyter-widgets/base",
            "_model_module_version": "1.5.0",
            "_view_count": null,
            "_view_module_version": "1.2.0",
            "_model_module": "@jupyter-widgets/controls"
          }
        },
        "51ad0f5d117f4bd4975c16ebd00c6d6a": {
          "model_module": "@jupyter-widgets/base",
          "model_name": "LayoutModel",
          "state": {
            "_view_name": "LayoutView",
            "grid_template_rows": null,
            "right": null,
            "justify_content": null,
            "_view_module": "@jupyter-widgets/base",
            "overflow": null,
            "_model_module_version": "1.2.0",
            "_view_count": null,
            "flex_flow": null,
            "width": null,
            "min_width": null,
            "border": null,
            "align_items": null,
            "bottom": null,
            "_model_module": "@jupyter-widgets/base",
            "top": null,
            "grid_column": null,
            "overflow_y": null,
            "overflow_x": null,
            "grid_auto_flow": null,
            "grid_area": null,
            "grid_template_columns": null,
            "flex": null,
            "_model_name": "LayoutModel",
            "justify_items": null,
            "grid_row": null,
            "max_height": null,
            "align_content": null,
            "visibility": null,
            "align_self": null,
            "height": null,
            "min_height": null,
            "padding": null,
            "grid_auto_rows": null,
            "grid_gap": null,
            "max_width": null,
            "order": null,
            "_view_module_version": "1.2.0",
            "grid_template_areas": null,
            "object_position": null,
            "object_fit": null,
            "grid_auto_columns": null,
            "margin": null,
            "display": null,
            "left": null
          }
        }
      }
    }
  },
  "cells": [
    {
      "cell_type": "code",
      "metadata": {
        "colab": {
          "base_uri": "https://localhost:8080/"
        },
        "id": "Zbk3K3MtiKG5",
        "outputId": "b943fa6d-dfee-45ae-9366-b5ce35032304"
      },
      "source": [
        "import pandas as pd\n",
        "import numpy as np\n",
        "import seaborn as sns\n",
        "import matplotlib.pyplot as plt\n",
        "\n",
        "import nltk\n",
        "from nltk.corpus import wordnet\n",
        "from nltk.stem import WordNetLemmatizer\n",
        "nltk.download('punkt')\n",
        "nltk.download(\"stopwords\")\n",
        "nltk.download('wordnet')\n",
        "nltk.download('averaged_perceptron_tagger')\n",
        "\n",
        "from sklearn.model_selection import train_test_split\n",
        "from sklearn.feature_extraction.text import CountVectorizer\n",
        "from sklearn.linear_model import LogisticRegression\n",
        "from sklearn.metrics import classification_report\n",
        "from sklearn.tree import DecisionTreeClassifier\n",
        "from sklearn.naive_bayes import MultinomialNB\n",
        "from sklearn.ensemble import GradientBoostingClassifier\n",
        "\n",
        "import re\n",
        "from tqdm.auto import tqdm"
      ],
      "execution_count": 1,
      "outputs": [
        {
          "output_type": "stream",
          "text": [
            "[nltk_data] Downloading package punkt to /root/nltk_data...\n",
            "[nltk_data]   Unzipping tokenizers/punkt.zip.\n",
            "[nltk_data] Downloading package stopwords to /root/nltk_data...\n",
            "[nltk_data]   Package stopwords is already up-to-date!\n",
            "[nltk_data] Downloading package wordnet to /root/nltk_data...\n",
            "[nltk_data]   Package wordnet is already up-to-date!\n",
            "[nltk_data] Downloading package averaged_perceptron_tagger to\n",
            "[nltk_data]     /root/nltk_data...\n",
            "[nltk_data]   Package averaged_perceptron_tagger is already up-to-\n",
            "[nltk_data]       date!\n"
          ],
          "name": "stdout"
        }
      ]
    },
    {
      "cell_type": "code",
      "metadata": {
        "colab": {
          "base_uri": "https://localhost:8080/",
          "height": 355
        },
        "id": "Zg_p90zsiUOM",
        "outputId": "b66f1784-6271-4cd4-f10e-64c8a0edd3f2"
      },
      "source": [
        "root_dir = '/content/drive/MyDrive/Финальный проект/'\n",
        "train = pd.read_csv(root_dir + 'train.tsv', sep='\\t', header=0)\n",
        "test = pd.read_csv(root_dir + 'test.tsv', sep='\\t', header=0)\n",
        "train.head(10)"
      ],
      "execution_count": 2,
      "outputs": [
        {
          "output_type": "execute_result",
          "data": {
            "text/html": [
              "<div>\n",
              "<style scoped>\n",
              "    .dataframe tbody tr th:only-of-type {\n",
              "        vertical-align: middle;\n",
              "    }\n",
              "\n",
              "    .dataframe tbody tr th {\n",
              "        vertical-align: top;\n",
              "    }\n",
              "\n",
              "    .dataframe thead th {\n",
              "        text-align: right;\n",
              "    }\n",
              "</style>\n",
              "<table border=\"1\" class=\"dataframe\">\n",
              "  <thead>\n",
              "    <tr style=\"text-align: right;\">\n",
              "      <th></th>\n",
              "      <th>PhraseId</th>\n",
              "      <th>SentenceId</th>\n",
              "      <th>Phrase</th>\n",
              "      <th>Sentiment</th>\n",
              "    </tr>\n",
              "  </thead>\n",
              "  <tbody>\n",
              "    <tr>\n",
              "      <th>0</th>\n",
              "      <td>1</td>\n",
              "      <td>1</td>\n",
              "      <td>A series of escapades demonstrating the adage ...</td>\n",
              "      <td>1</td>\n",
              "    </tr>\n",
              "    <tr>\n",
              "      <th>1</th>\n",
              "      <td>2</td>\n",
              "      <td>1</td>\n",
              "      <td>A series of escapades demonstrating the adage ...</td>\n",
              "      <td>2</td>\n",
              "    </tr>\n",
              "    <tr>\n",
              "      <th>2</th>\n",
              "      <td>3</td>\n",
              "      <td>1</td>\n",
              "      <td>A series</td>\n",
              "      <td>2</td>\n",
              "    </tr>\n",
              "    <tr>\n",
              "      <th>3</th>\n",
              "      <td>4</td>\n",
              "      <td>1</td>\n",
              "      <td>A</td>\n",
              "      <td>2</td>\n",
              "    </tr>\n",
              "    <tr>\n",
              "      <th>4</th>\n",
              "      <td>5</td>\n",
              "      <td>1</td>\n",
              "      <td>series</td>\n",
              "      <td>2</td>\n",
              "    </tr>\n",
              "    <tr>\n",
              "      <th>5</th>\n",
              "      <td>6</td>\n",
              "      <td>1</td>\n",
              "      <td>of escapades demonstrating the adage that what...</td>\n",
              "      <td>2</td>\n",
              "    </tr>\n",
              "    <tr>\n",
              "      <th>6</th>\n",
              "      <td>7</td>\n",
              "      <td>1</td>\n",
              "      <td>of</td>\n",
              "      <td>2</td>\n",
              "    </tr>\n",
              "    <tr>\n",
              "      <th>7</th>\n",
              "      <td>8</td>\n",
              "      <td>1</td>\n",
              "      <td>escapades demonstrating the adage that what is...</td>\n",
              "      <td>2</td>\n",
              "    </tr>\n",
              "    <tr>\n",
              "      <th>8</th>\n",
              "      <td>9</td>\n",
              "      <td>1</td>\n",
              "      <td>escapades</td>\n",
              "      <td>2</td>\n",
              "    </tr>\n",
              "    <tr>\n",
              "      <th>9</th>\n",
              "      <td>10</td>\n",
              "      <td>1</td>\n",
              "      <td>demonstrating the adage that what is good for ...</td>\n",
              "      <td>2</td>\n",
              "    </tr>\n",
              "  </tbody>\n",
              "</table>\n",
              "</div>"
            ],
            "text/plain": [
              "   PhraseId  ...  Sentiment\n",
              "0         1  ...          1\n",
              "1         2  ...          2\n",
              "2         3  ...          2\n",
              "3         4  ...          2\n",
              "4         5  ...          2\n",
              "5         6  ...          2\n",
              "6         7  ...          2\n",
              "7         8  ...          2\n",
              "8         9  ...          2\n",
              "9        10  ...          2\n",
              "\n",
              "[10 rows x 4 columns]"
            ]
          },
          "metadata": {
            "tags": []
          },
          "execution_count": 2
        }
      ]
    },
    {
      "cell_type": "markdown",
      "metadata": {
        "id": "UWinLZ4IiHga"
      },
      "source": [
        "# Препроцессинг"
      ]
    },
    {
      "cell_type": "code",
      "metadata": {
        "id": "qFC_BWawPPLc"
      },
      "source": [
        "def get_wordnet_pos(word):\n",
        "    \"\"\"Map POS tag to first character lemmatize() accepts\"\"\"\n",
        "    tag = nltk.pos_tag([word])[0][1][0].upper()\n",
        "    tag_dict = {\"J\": wordnet.ADJ,\n",
        "                \"N\": wordnet.NOUN,\n",
        "                \"V\": wordnet.VERB,\n",
        "                \"R\": wordnet.ADV}\n",
        "\n",
        "    return tag_dict.get(tag, wordnet.NOUN)"
      ],
      "execution_count": 3,
      "outputs": []
    },
    {
      "cell_type": "code",
      "metadata": {
        "id": "p_7OTeqhik5w"
      },
      "source": [
        "lemmatizer = WordNetLemmatizer()\n",
        "\n",
        "class TextPreprocessor:\n",
        "  def __call__(self, text):\n",
        "        lowercase_text = text.lower()\n",
        "        raw_tokens = nltk.word_tokenize(lowercase_text)\n",
        "        lemmatized_tokens = [\n",
        "              lemmatizer.lemmatize(w, get_wordnet_pos(w)) for w in raw_tokens\n",
        "        ]\n",
        "        clean_tokens = [\n",
        "            re.sub('[^a-z]', '', token) for token in lemmatized_tokens\n",
        "        ]\n",
        "        stopwords = set(nltk.corpus.stopwords.words('english'))\n",
        "        clean_tokens = [token for token in clean_tokens if token and token not in stopwords]\n",
        "        return [\n",
        "            token for token in clean_tokens if token not in stopwords\n",
        "        ]"
      ],
      "execution_count": 4,
      "outputs": []
    },
    {
      "cell_type": "code",
      "metadata": {
        "colab": {
          "base_uri": "https://localhost:8080/",
          "height": 114,
          "referenced_widgets": [
            "2e1d8174083d4a84bce06fab87b59619",
            "3d39bf3ee19445dda5fe8e0be87b5d1e",
            "98a2a98bcaf3403cbb9a480d04d1cd1c",
            "315e5a17872d48fbbeb8305f5d4c2d3b",
            "749c828ac6954e67a29a3730750752ae",
            "c91d5baa76054c63ae02d985d7bd8a47",
            "8cd5cb4919a14908a2410b9c2eaef38d",
            "bd474b727c4342639a39ad98b193e77d",
            "202b1f0d57ec4ca3949ac4c17f585420",
            "25828b7b1e884707979ad4a035565452",
            "9b64cd1b23684161a9eb8d733d6f4988",
            "b08b8ea55bf0488a9dc52b08ee105d8b",
            "b6261a389bb34ad4a060d029ab5f3951",
            "578a648684f448dba0783af55bd293ea",
            "e8610d6eff5e44cd9ec5fccf5b75362e",
            "1cc057fe387449cbade30bf9721b9d71"
          ]
        },
        "id": "nH7aa1Pfim1I",
        "outputId": "3794d3f9-6bbd-42a3-fc87-e0dfa8649dfd"
      },
      "source": [
        "train[\"Phrase\"] = [TextPreprocessor()(x) for x in tqdm(train[\"Phrase\"])]\n",
        "train.to_csv(root_dir + 'clean_train.csv')\n",
        "test[\"Phrase\"] = [TextPreprocessor()(x) for x in tqdm(test[\"Phrase\"])]\n",
        "test.to_csv(root_dir + 'clean_test.csv')"
      ],
      "execution_count": 5,
      "outputs": [
        {
          "output_type": "display_data",
          "data": {
            "application/vnd.jupyter.widget-view+json": {
              "model_id": "2e1d8174083d4a84bce06fab87b59619",
              "version_minor": 0,
              "version_major": 2
            },
            "text/plain": [
              "HBox(children=(FloatProgress(value=0.0, max=156060.0), HTML(value='')))"
            ]
          },
          "metadata": {
            "tags": []
          }
        },
        {
          "output_type": "stream",
          "text": [
            "\n"
          ],
          "name": "stdout"
        },
        {
          "output_type": "display_data",
          "data": {
            "application/vnd.jupyter.widget-view+json": {
              "model_id": "202b1f0d57ec4ca3949ac4c17f585420",
              "version_minor": 0,
              "version_major": 2
            },
            "text/plain": [
              "HBox(children=(FloatProgress(value=0.0, max=66292.0), HTML(value='')))"
            ]
          },
          "metadata": {
            "tags": []
          }
        },
        {
          "output_type": "stream",
          "text": [
            "\n"
          ],
          "name": "stdout"
        }
      ]
    },
    {
      "cell_type": "code",
      "metadata": {
        "colab": {
          "base_uri": "https://localhost:8080/"
        },
        "id": "nVbP1SL-FRZH",
        "outputId": "565d7d64-9519-40c7-a5b5-c74c660c02e6"
      },
      "source": [
        "print('До препроцессинга:\\n' + train[\"Phrase\"][0])\n",
        "print('После: \\n' + TextPreprocessor()(train[\"Phrase\"][0]))"
      ],
      "execution_count": 6,
      "outputs": [
        {
          "output_type": "stream",
          "text": [
            "До препроцессинга:\n",
            "series escapade demonstrate adage good goose also good gander occasionally amuses none amount much story\n",
            "После: \n",
            "series escapade demonstrate adage good goose also good gander occasionally amuses none amount much story\n"
          ],
          "name": "stdout"
        }
      ]
    },
    {
      "cell_type": "code",
      "metadata": {
        "colab": {
          "base_uri": "https://localhost:8080/",
          "height": 312
        },
        "id": "74H3AglNQTIt",
        "outputId": "feb5bda0-7a76-4fa4-bfdc-11cd8698b77b"
      },
      "source": [
        "sns.countplot(x=train.Sentiment, palette='gist_rainbow').set_title(\"Распределение целевой переменной\")"
      ],
      "execution_count": 7,
      "outputs": [
        {
          "output_type": "execute_result",
          "data": {
            "text/plain": [
              "Text(0.5, 1.0, 'Распределение целевой переменной')"
            ]
          },
          "metadata": {
            "tags": []
          },
          "execution_count": 7
        },
        {
          "output_type": "display_data",
          "data": {
            "image/png": "[encoded data removed]",
            "text/plain": [
              "<Figure size 432x288 with 1 Axes>"
            ]
          },
          "metadata": {
            "tags": [],
            "needs_background": "light"
          }
        }
      ]
    },
    {
      "cell_type": "code",
      "metadata": {
        "id": "jZvuEFw2SNqA"
      },
      "source": [
        "vectorizer = CountVectorizer()\n",
        "X = vectorizer.fit_transform(train.Phrase.values)\n",
        "y = train.Sentiment.values\n",
        "X_train, X_val, y_train, y_val = train_test_split(X, y, test_size=0.15, random_state=21)"
      ],
      "execution_count": 8,
      "outputs": []
    },
    {
      "cell_type": "code",
      "metadata": {
        "colab": {
          "base_uri": "https://localhost:8080/",
          "height": 351
        },
        "id": "0aO08mVdePSx",
        "outputId": "4973f31f-066d-4711-e467-2edb48391389"
      },
      "source": [
        "sns.countplot(y_train, palette='gist_rainbow').set_title(\"Распределение целевой переменной на тренировочной выборке\")"
      ],
      "execution_count": 9,
      "outputs": [
        {
          "output_type": "stream",
          "text": [
            "/usr/local/lib/python3.7/dist-packages/seaborn/_decorators.py:43: FutureWarning: Pass the following variable as a keyword arg: x. From version 0.12, the only valid positional argument will be `data`, and passing other arguments without an explicit keyword will result in an error or misinterpretation.\n",
            "  FutureWarning\n"
          ],
          "name": "stderr"
        },
        {
          "output_type": "execute_result",
          "data": {
            "text/plain": [
              "Text(0.5, 1.0, 'Распределение целевой переменной на тренировочной выборке')"
            ]
          },
          "metadata": {
            "tags": []
          },
          "execution_count": 9
        },
        {
          "output_type": "display_data",
          "data": {
            "image/png": "[encoded data removed]",
            "text/plain": [
              "<Figure size 432x288 with 1 Axes>"
            ]
          },
          "metadata": {
            "tags": [],
            "needs_background": "light"
          }
        }
      ]
    },
    {
      "cell_type": "code",
      "metadata": {
        "colab": {
          "base_uri": "https://localhost:8080/",
          "height": 351
        },
        "id": "UUYVq8exeTJx",
        "outputId": "7a71efe0-eeee-4ab3-9644-5ebdadd944cd"
      },
      "source": [
        "sns.countplot(y_val, palette='gist_rainbow').set_title(\"Распределение целевой переменной на валидационной выборке\")"
      ],
      "execution_count": 10,
      "outputs": [
        {
          "output_type": "stream",
          "text": [
            "/usr/local/lib/python3.7/dist-packages/seaborn/_decorators.py:43: FutureWarning: Pass the following variable as a keyword arg: x. From version 0.12, the only valid positional argument will be `data`, and passing other arguments without an explicit keyword will result in an error or misinterpretation.\n",
            "  FutureWarning\n"
          ],
          "name": "stderr"
        },
        {
          "output_type": "execute_result",
          "data": {
            "text/plain": [
              "Text(0.5, 1.0, 'Распределение целевой переменной на валидационной выборке')"
            ]
          },
          "metadata": {
            "tags": []
          },
          "execution_count": 10
        },
        {
          "output_type": "display_data",
          "data": {
            "image/png": "[encoded data removed]",
            "text/plain": [
              "<Figure size 432x288 with 1 Axes>"
            ]
          },
          "metadata": {
            "tags": [],
            "needs_background": "light"
          }
        }
      ]
    },
    {
      "cell_type": "markdown",
      "metadata": {
        "id": "Gtclaw7wiPTr"
      },
      "source": [
        "# Обучение методов ML на неизмененном датасете(с несбалансированными классами)"
      ]
    },
    {
      "cell_type": "code",
      "metadata": {
        "colab": {
          "base_uri": "https://localhost:8080/"
        },
        "id": "R5BqxB86U0h3",
        "outputId": "15107e29-bd56-4908-bb41-e26c45c7bd29"
      },
      "source": [
        "logreg = LogisticRegression(multi_class=\"multinomial\", random_state=42, max_iter=1000)\n",
        "logreg.fit(X_train, y_train)\n",
        "y_pred = logreg.predict(X_val)\n",
        "print(classification_report(y_val, y_pred))"
      ],
      "execution_count": 11,
      "outputs": [
        {
          "output_type": "stream",
          "text": [
            "              precision    recall  f1-score   support\n",
            "\n",
            "           0       0.55      0.29      0.38      1084\n",
            "           1       0.54      0.39      0.45      4107\n",
            "           2       0.69      0.87      0.77     11877\n",
            "           3       0.58      0.47      0.52      4926\n",
            "           4       0.61      0.34      0.44      1415\n",
            "\n",
            "    accuracy                           0.64     23409\n",
            "   macro avg       0.59      0.47      0.51     23409\n",
            "weighted avg       0.63      0.64      0.62     23409\n",
            "\n"
          ],
          "name": "stdout"
        }
      ]
    },
    {
      "cell_type": "code",
      "metadata": {
        "colab": {
          "base_uri": "https://localhost:8080/"
        },
        "id": "6khoLRQWG5YD",
        "outputId": "d659f6bd-7e25-4b98-e0f0-f4ade62e4b41"
      },
      "source": [
        "gb_cls = GradientBoostingClassifier(random_state=42)\n",
        "gb_cls.fit(X_train, y_train)\n",
        "y_pred = gb_cls.predict(X_val)\n",
        "print(classification_report(y_val, y_pred))"
      ],
      "execution_count": 12,
      "outputs": [
        {
          "output_type": "stream",
          "text": [
            "              precision    recall  f1-score   support\n",
            "\n",
            "           0       0.67      0.09      0.15      1084\n",
            "           1       0.46      0.05      0.09      4107\n",
            "           2       0.53      0.98      0.69     11877\n",
            "           3       0.50      0.08      0.14      4926\n",
            "           4       0.72      0.09      0.16      1415\n",
            "\n",
            "    accuracy                           0.53     23409\n",
            "   macro avg       0.58      0.26      0.25     23409\n",
            "weighted avg       0.53      0.53      0.41     23409\n",
            "\n"
          ],
          "name": "stdout"
        }
      ]
    },
    {
      "cell_type": "code",
      "metadata": {
        "colab": {
          "base_uri": "https://localhost:8080/"
        },
        "id": "nJ332PpbVxl3",
        "outputId": "b91beaf2-6d42-4716-c390-ac9a03333f4e"
      },
      "source": [
        "tree = DecisionTreeClassifier(random_state=42, max_depth=7, criterion='entropy')\n",
        "tree.fit(X_train, y_train)\n",
        "y_pred = tree.predict(X_val)\n",
        "print(classification_report(y_val, y_pred))"
      ],
      "execution_count": 13,
      "outputs": [
        {
          "output_type": "stream",
          "text": [
            "              precision    recall  f1-score   support\n",
            "\n",
            "           0       0.33      0.00      0.01      1084\n",
            "           1       0.36      0.07      0.12      4107\n",
            "           2       0.52      0.97      0.68     11877\n",
            "           3       0.43      0.04      0.07      4926\n",
            "           4       0.41      0.07      0.13      1415\n",
            "\n",
            "    accuracy                           0.52     23409\n",
            "   macro avg       0.41      0.23      0.20     23409\n",
            "weighted avg       0.46      0.52      0.39     23409\n",
            "\n"
          ],
          "name": "stdout"
        }
      ]
    },
    {
      "cell_type": "code",
      "metadata": {
        "colab": {
          "base_uri": "https://localhost:8080/"
        },
        "id": "PXeF7H_5evRD",
        "outputId": "b430ee2e-fda6-401e-f845-92a91b8985af"
      },
      "source": [
        "clf = MultinomialNB()\n",
        "clf.fit(X_train, y_train)\n",
        "y_pred = clf.predict(X_val)\n",
        "print(classification_report(y_val, y_pred))"
      ],
      "execution_count": 14,
      "outputs": [
        {
          "output_type": "stream",
          "text": [
            "              precision    recall  f1-score   support\n",
            "\n",
            "           0       0.47      0.29      0.36      1084\n",
            "           1       0.50      0.40      0.44      4107\n",
            "           2       0.68      0.80      0.74     11877\n",
            "           3       0.53      0.49      0.51      4926\n",
            "           4       0.51      0.31      0.38      1415\n",
            "\n",
            "    accuracy                           0.61     23409\n",
            "   macro avg       0.54      0.46      0.49     23409\n",
            "weighted avg       0.60      0.61      0.60     23409\n",
            "\n"
          ],
          "name": "stdout"
        }
      ]
    },
    {
      "cell_type": "markdown",
      "metadata": {
        "id": "itHD3rGpi59a"
      },
      "source": [
        "# Обучение на тренировочной выборке без дубликатов"
      ]
    },
    {
      "cell_type": "code",
      "metadata": {
        "id": "5vMO5gaQQhUd"
      },
      "source": [
        "without_dups = train.drop_duplicates(subset=['Phrase', 'Sentiment'])\n",
        "X = vectorizer.fit_transform(without_dups.Phrase.values)\n",
        "y = without_dups.Sentiment.values\n",
        "X_train, X_val, y_train, y_val = train_test_split(X, y, test_size=0.15, random_state=21)"
      ],
      "execution_count": 15,
      "outputs": []
    },
    {
      "cell_type": "code",
      "metadata": {
        "colab": {
          "base_uri": "https://localhost:8080/"
        },
        "id": "s4BhNRYvkLkO",
        "outputId": "72f05418-0e7a-406d-e433-98c49e5f3529"
      },
      "source": [
        "logreg = LogisticRegression(multi_class=\"multinomial\", random_state=42, max_iter=1000)\n",
        "logreg.fit(X_train, y_train)\n",
        "y_pred = logreg.predict(X_val)\n",
        "print(classification_report(y_val, y_pred))"
      ],
      "execution_count": 16,
      "outputs": [
        {
          "output_type": "stream",
          "text": [
            "              precision    recall  f1-score   support\n",
            "\n",
            "           0       0.40      0.17      0.24       824\n",
            "           1       0.43      0.31      0.36      2897\n",
            "           2       0.59      0.80      0.68      7020\n",
            "           3       0.48      0.38      0.42      3518\n",
            "           4       0.44      0.22      0.29      1051\n",
            "\n",
            "    accuracy                           0.54     15310\n",
            "   macro avg       0.47      0.38      0.40     15310\n",
            "weighted avg       0.51      0.54      0.51     15310\n",
            "\n"
          ],
          "name": "stdout"
        }
      ]
    },
    {
      "cell_type": "code",
      "metadata": {
        "colab": {
          "base_uri": "https://localhost:8080/"
        },
        "id": "cOOfgLxSkPv9",
        "outputId": "7a48791a-bdb0-4743-d866-c08f47eaf37a"
      },
      "source": [
        "gb_cls = GradientBoostingClassifier(random_state=42)\n",
        "gb_cls.fit(X_train, y_train)\n",
        "y_pred = gb_cls.predict(X_val)\n",
        "print(classification_report(y_val, y_pred))"
      ],
      "execution_count": 17,
      "outputs": [
        {
          "output_type": "stream",
          "text": [
            "              precision    recall  f1-score   support\n",
            "\n",
            "           0       0.54      0.06      0.11       824\n",
            "           1       0.42      0.05      0.10      2897\n",
            "           2       0.48      0.97      0.64      7020\n",
            "           3       0.42      0.07      0.12      3518\n",
            "           4       0.55      0.07      0.12      1051\n",
            "\n",
            "    accuracy                           0.48     15310\n",
            "   macro avg       0.48      0.25      0.22     15310\n",
            "weighted avg       0.46      0.48      0.36     15310\n",
            "\n"
          ],
          "name": "stdout"
        }
      ]
    },
    {
      "cell_type": "code",
      "metadata": {
        "colab": {
          "base_uri": "https://localhost:8080/"
        },
        "id": "4rfeGbkYkVGC",
        "outputId": "cbcc327f-ddf2-4ec5-9e0c-6bad7e266c9f"
      },
      "source": [
        "tree = DecisionTreeClassifier(random_state=42, max_depth=7, criterion='entropy')\n",
        "tree.fit(X_train, y_train)\n",
        "y_pred = tree.predict(X_val)\n",
        "print(classification_report(y_val, y_pred))"
      ],
      "execution_count": 18,
      "outputs": [
        {
          "output_type": "stream",
          "text": [
            "              precision    recall  f1-score   support\n",
            "\n",
            "           0       0.40      0.01      0.02       824\n",
            "           1       0.35      0.06      0.11      2897\n",
            "           2       0.47      0.97      0.64      7020\n",
            "           3       0.41      0.04      0.08      3518\n",
            "           4       0.50      0.01      0.03      1051\n",
            "\n",
            "    accuracy                           0.47     15310\n",
            "   macro avg       0.43      0.22      0.17     15310\n",
            "weighted avg       0.43      0.47      0.33     15310\n",
            "\n"
          ],
          "name": "stdout"
        }
      ]
    },
    {
      "cell_type": "code",
      "metadata": {
        "colab": {
          "base_uri": "https://localhost:8080/"
        },
        "id": "RuOiAJQskYRE",
        "outputId": "e0cbf7cf-fe1a-4563-9584-836d4221abab"
      },
      "source": [
        "clf = MultinomialNB()\n",
        "clf.fit(X_train, y_train)\n",
        "y_pred = clf.predict(X_val)\n",
        "print(classification_report(y_val, y_pred))"
      ],
      "execution_count": 19,
      "outputs": [
        {
          "output_type": "stream",
          "text": [
            "              precision    recall  f1-score   support\n",
            "\n",
            "           0       0.38      0.19      0.26       824\n",
            "           1       0.41      0.37      0.39      2897\n",
            "           2       0.59      0.70      0.64      7020\n",
            "           3       0.45      0.43      0.44      3518\n",
            "           4       0.38      0.21      0.27      1051\n",
            "\n",
            "    accuracy                           0.52     15310\n",
            "   macro avg       0.44      0.38      0.40     15310\n",
            "weighted avg       0.50      0.52      0.50     15310\n",
            "\n"
          ],
          "name": "stdout"
        }
      ]
    },
    {
      "cell_type": "markdown",
      "metadata": {
        "id": "fodKz0OfBbML"
      },
      "source": [
        "# TFidf"
      ]
    },
    {
      "cell_type": "code",
      "metadata": {
        "id": "TgbGbB0wWbUw"
      },
      "source": [
        "from sklearn.feature_extraction.text import TfidfVectorizer\n",
        "\n",
        "TFvectorizer = TfidfVectorizer()\n",
        "X = TFvectorizer.fit_transform(train.Phrase.values)\n",
        "y = train.Sentiment.values\n",
        "X_train, X_val, y_train, y_val = train_test_split(X, y, test_size=0.15, random_state=21)"
      ],
      "execution_count": 20,
      "outputs": []
    },
    {
      "cell_type": "code",
      "metadata": {
        "colab": {
          "base_uri": "https://localhost:8080/"
        },
        "id": "OT-FZR5oW3Y7",
        "outputId": "4661a8ef-1566-43f7-fc28-5347c84ced03"
      },
      "source": [
        "logreg = LogisticRegression(multi_class=\"multinomial\", random_state=42, max_iter=1000)\n",
        "logreg.fit(X_train, y_train)\n",
        "y_pred = logreg.predict(X_val)\n",
        "print(classification_report(y_val, y_pred))"
      ],
      "execution_count": 21,
      "outputs": [
        {
          "output_type": "stream",
          "text": [
            "              precision    recall  f1-score   support\n",
            "\n",
            "           0       0.63      0.19      0.29      1084\n",
            "           1       0.53      0.36      0.43      4107\n",
            "           2       0.67      0.88      0.76     11877\n",
            "           3       0.56      0.48      0.52      4926\n",
            "           4       0.65      0.27      0.38      1415\n",
            "\n",
            "    accuracy                           0.63     23409\n",
            "   macro avg       0.61      0.44      0.48     23409\n",
            "weighted avg       0.62      0.63      0.61     23409\n",
            "\n"
          ],
          "name": "stdout"
        }
      ]
    },
    {
      "cell_type": "code",
      "metadata": {
        "colab": {
          "base_uri": "https://localhost:8080/"
        },
        "id": "TH_F_V4-kyny",
        "outputId": "c3658144-8c11-4f1f-c1c7-4ce22ab96d4b"
      },
      "source": [
        "gb_cls = GradientBoostingClassifier(random_state=42)\n",
        "gb_cls.fit(X_train, y_train)\n",
        "y_pred = gb_cls.predict(X_val)\n",
        "print(classification_report(y_val, y_pred))"
      ],
      "execution_count": 22,
      "outputs": [
        {
          "output_type": "stream",
          "text": [
            "              precision    recall  f1-score   support\n",
            "\n",
            "           0       0.66      0.10      0.17      1084\n",
            "           1       0.45      0.06      0.10      4107\n",
            "           2       0.54      0.98      0.69     11877\n",
            "           3       0.50      0.09      0.16      4926\n",
            "           4       0.73      0.09      0.16      1415\n",
            "\n",
            "    accuracy                           0.53     23409\n",
            "   macro avg       0.57      0.26      0.25     23409\n",
            "weighted avg       0.53      0.53      0.42     23409\n",
            "\n"
          ],
          "name": "stdout"
        }
      ]
    },
    {
      "cell_type": "code",
      "metadata": {
        "colab": {
          "base_uri": "https://localhost:8080/"
        },
        "id": "rTnZWLLrW7rz",
        "outputId": "29a69989-6ada-4532-c346-3627510fcd27"
      },
      "source": [
        "tree = DecisionTreeClassifier(random_state=42, max_depth=7, criterion='entropy')\n",
        "tree.fit(X_train, y_train)\n",
        "y_pred = tree.predict(X_val)\n",
        "print(classification_report(y_val, y_pred))"
      ],
      "execution_count": 23,
      "outputs": [
        {
          "output_type": "stream",
          "text": [
            "              precision    recall  f1-score   support\n",
            "\n",
            "           0       0.00      0.00      0.00      1084\n",
            "           1       0.37      0.07      0.11      4107\n",
            "           2       0.53      0.96      0.68     11877\n",
            "           3       0.34      0.08      0.13      4926\n",
            "           4       0.41      0.07      0.12      1415\n",
            "\n",
            "    accuracy                           0.52     23409\n",
            "   macro avg       0.33      0.23      0.21     23409\n",
            "weighted avg       0.43      0.52      0.40     23409\n",
            "\n"
          ],
          "name": "stdout"
        }
      ]
    },
    {
      "cell_type": "code",
      "metadata": {
        "colab": {
          "base_uri": "https://localhost:8080/"
        },
        "id": "3xynpOj-k0w5",
        "outputId": "82d9720d-abcc-4850-c54c-821b776af038"
      },
      "source": [
        "clf = MultinomialNB()\n",
        "clf.fit(X_train, y_train)\n",
        "y_pred = clf.predict(X_val)\n",
        "print(classification_report(y_val, y_pred))"
      ],
      "execution_count": 24,
      "outputs": [
        {
          "output_type": "stream",
          "text": [
            "              precision    recall  f1-score   support\n",
            "\n",
            "           0       0.59      0.05      0.10      1084\n",
            "           1       0.52      0.27      0.35      4107\n",
            "           2       0.61      0.90      0.73     11877\n",
            "           3       0.53      0.39      0.45      4926\n",
            "           4       0.60      0.06      0.11      1415\n",
            "\n",
            "    accuracy                           0.59     23409\n",
            "   macro avg       0.57      0.33      0.35     23409\n",
            "weighted avg       0.58      0.59      0.54     23409\n",
            "\n"
          ],
          "name": "stdout"
        }
      ]
    },
    {
      "cell_type": "markdown",
      "metadata": {
        "id": "SkjgWiN8LHC-"
      },
      "source": [
        "# 3 лейбла вместо 5"
      ]
    },
    {
      "cell_type": "code",
      "metadata": {
        "colab": {
          "base_uri": "https://localhost:8080/"
        },
        "id": "DxLv8lg-5SsN",
        "outputId": "271fe621-4317-4fce-8556-56839adcafda"
      },
      "source": [
        "new_train = train.copy()\n",
        "new_train.loc[new_train.Sentiment == 1, 'Sentiment'] = 0\n",
        "new_train.loc[new_train.Sentiment == 3, 'Sentiment'] = 4\n",
        "new_train.Sentiment.unique()"
      ],
      "execution_count": 25,
      "outputs": [
        {
          "output_type": "execute_result",
          "data": {
            "text/plain": [
              "array([0, 2, 4])"
            ]
          },
          "metadata": {
            "tags": []
          },
          "execution_count": 25
        }
      ]
    },
    {
      "cell_type": "code",
      "metadata": {
        "colab": {
          "base_uri": "https://localhost:8080/",
          "height": 312
        },
        "id": "jK1RByGeCFZr",
        "outputId": "9cb4a1f4-4234-4a72-e699-4937e2708257"
      },
      "source": [
        "sns.countplot(x=new_train.Sentiment, palette='gist_rainbow').set_title(\"Распределение целевой переменной\")"
      ],
      "execution_count": 26,
      "outputs": [
        {
          "output_type": "execute_result",
          "data": {
            "text/plain": [
              "Text(0.5, 1.0, 'Распределение целевой переменной')"
            ]
          },
          "metadata": {
            "tags": []
          },
          "execution_count": 26
        },
        {
          "output_type": "display_data",
          "data": {
            "image/png": "[encoded data removed]",
            "text/plain": [
              "<Figure size 432x288 with 1 Axes>"
            ]
          },
          "metadata": {
            "tags": [],
            "needs_background": "light"
          }
        }
      ]
    },
    {
      "cell_type": "code",
      "metadata": {
        "colab": {
          "base_uri": "https://localhost:8080/",
          "height": 414
        },
        "id": "v7csWAp5COnD",
        "outputId": "9da77ffa-8ec7-4ee5-f443-8438df7cf229"
      },
      "source": [
        "new_train"
      ],
      "execution_count": 27,
      "outputs": [
        {
          "output_type": "execute_result",
          "data": {
            "text/html": [
              "<div>\n",
              "<style scoped>\n",
              "    .dataframe tbody tr th:only-of-type {\n",
              "        vertical-align: middle;\n",
              "    }\n",
              "\n",
              "    .dataframe tbody tr th {\n",
              "        vertical-align: top;\n",
              "    }\n",
              "\n",
              "    .dataframe thead th {\n",
              "        text-align: right;\n",
              "    }\n",
              "</style>\n",
              "<table border=\"1\" class=\"dataframe\">\n",
              "  <thead>\n",
              "    <tr style=\"text-align: right;\">\n",
              "      <th></th>\n",
              "      <th>PhraseId</th>\n",
              "      <th>SentenceId</th>\n",
              "      <th>Phrase</th>\n",
              "      <th>Sentiment</th>\n",
              "    </tr>\n",
              "  </thead>\n",
              "  <tbody>\n",
              "    <tr>\n",
              "      <th>0</th>\n",
              "      <td>1</td>\n",
              "      <td>1</td>\n",
              "      <td>series escapade demonstrate adage good goose a...</td>\n",
              "      <td>0</td>\n",
              "    </tr>\n",
              "    <tr>\n",
              "      <th>1</th>\n",
              "      <td>2</td>\n",
              "      <td>1</td>\n",
              "      <td>series escapade demonstrate adage good goose</td>\n",
              "      <td>2</td>\n",
              "    </tr>\n",
              "    <tr>\n",
              "      <th>2</th>\n",
              "      <td>3</td>\n",
              "      <td>1</td>\n",
              "      <td>series</td>\n",
              "      <td>2</td>\n",
              "    </tr>\n",
              "    <tr>\n",
              "      <th>3</th>\n",
              "      <td>4</td>\n",
              "      <td>1</td>\n",
              "      <td></td>\n",
              "      <td>2</td>\n",
              "    </tr>\n",
              "    <tr>\n",
              "      <th>4</th>\n",
              "      <td>5</td>\n",
              "      <td>1</td>\n",
              "      <td>series</td>\n",
              "      <td>2</td>\n",
              "    </tr>\n",
              "    <tr>\n",
              "      <th>...</th>\n",
              "      <td>...</td>\n",
              "      <td>...</td>\n",
              "      <td>...</td>\n",
              "      <td>...</td>\n",
              "    </tr>\n",
              "    <tr>\n",
              "      <th>156055</th>\n",
              "      <td>156056</td>\n",
              "      <td>8544</td>\n",
              "      <td>hearst</td>\n",
              "      <td>2</td>\n",
              "    </tr>\n",
              "    <tr>\n",
              "      <th>156056</th>\n",
              "      <td>156057</td>\n",
              "      <td>8544</td>\n",
              "      <td>force avuncular chortle</td>\n",
              "      <td>0</td>\n",
              "    </tr>\n",
              "    <tr>\n",
              "      <th>156057</th>\n",
              "      <td>156058</td>\n",
              "      <td>8544</td>\n",
              "      <td>avuncular chortle</td>\n",
              "      <td>4</td>\n",
              "    </tr>\n",
              "    <tr>\n",
              "      <th>156058</th>\n",
              "      <td>156059</td>\n",
              "      <td>8544</td>\n",
              "      <td>avuncular</td>\n",
              "      <td>2</td>\n",
              "    </tr>\n",
              "    <tr>\n",
              "      <th>156059</th>\n",
              "      <td>156060</td>\n",
              "      <td>8544</td>\n",
              "      <td>chortle</td>\n",
              "      <td>2</td>\n",
              "    </tr>\n",
              "  </tbody>\n",
              "</table>\n",
              "<p>156060 rows × 4 columns</p>\n",
              "</div>"
            ],
            "text/plain": [
              "        PhraseId  ...  Sentiment\n",
              "0              1  ...          0\n",
              "1              2  ...          2\n",
              "2              3  ...          2\n",
              "3              4  ...          2\n",
              "4              5  ...          2\n",
              "...          ...  ...        ...\n",
              "156055    156056  ...          2\n",
              "156056    156057  ...          0\n",
              "156057    156058  ...          4\n",
              "156058    156059  ...          2\n",
              "156059    156060  ...          2\n",
              "\n",
              "[156060 rows x 4 columns]"
            ]
          },
          "metadata": {
            "tags": []
          },
          "execution_count": 27
        }
      ]
    },
    {
      "cell_type": "code",
      "metadata": {
        "colab": {
          "base_uri": "https://localhost:8080/"
        },
        "id": "pGzZ7R4lCdLC",
        "outputId": "802f1110-8c6c-48ca-ed7a-b845ccf02d60"
      },
      "source": [
        "X = vectorizer.fit_transform(new_train.Phrase.values)\n",
        "y = new_train.Sentiment.values\n",
        "X_train, X_val, y_train, y_val = train_test_split(X, y, test_size=0.15, random_state=21)\n",
        "\n",
        "logreg = LogisticRegression(multi_class=\"multinomial\", random_state=42, max_iter=1000)\n",
        "logreg.fit(X_train, y_train)\n",
        "y_pred = logreg.predict(X_val)\n",
        "print(classification_report(y_val, y_pred))"
      ],
      "execution_count": 28,
      "outputs": [
        {
          "output_type": "stream",
          "text": [
            "              precision    recall  f1-score   support\n",
            "\n",
            "           0       0.74      0.56      0.64      5191\n",
            "           2       0.71      0.85      0.77     11877\n",
            "           4       0.78      0.65      0.71      6341\n",
            "\n",
            "    accuracy                           0.73     23409\n",
            "   macro avg       0.74      0.69      0.71     23409\n",
            "weighted avg       0.74      0.73      0.73     23409\n",
            "\n"
          ],
          "name": "stdout"
        }
      ]
    },
    {
      "cell_type": "code",
      "metadata": {
        "colab": {
          "base_uri": "https://localhost:8080/"
        },
        "id": "_mieeULplVuE",
        "outputId": "6fd1d845-06d2-4218-a7ec-3160e76d45be"
      },
      "source": [
        "gb_cls = GradientBoostingClassifier(random_state=42)\n",
        "gb_cls.fit(X_train, y_train)\n",
        "y_pred = gb_cls.predict(X_val)\n",
        "print(classification_report(y_val, y_pred))"
      ],
      "execution_count": 29,
      "outputs": [
        {
          "output_type": "stream",
          "text": [
            "              precision    recall  f1-score   support\n",
            "\n",
            "           0       0.71      0.13      0.22      5191\n",
            "           2       0.56      0.96      0.70     11877\n",
            "           4       0.74      0.24      0.36      6341\n",
            "\n",
            "    accuracy                           0.58     23409\n",
            "   macro avg       0.67      0.44      0.43     23409\n",
            "weighted avg       0.64      0.58      0.50     23409\n",
            "\n"
          ],
          "name": "stdout"
        }
      ]
    },
    {
      "cell_type": "code",
      "metadata": {
        "colab": {
          "base_uri": "https://localhost:8080/"
        },
        "id": "36JxMAl5laN-",
        "outputId": "5923ff87-8cf2-498c-c568-cf630dc6a80f"
      },
      "source": [
        "tree = DecisionTreeClassifier(random_state=42, max_depth=7, criterion='entropy')\n",
        "tree.fit(X_train, y_train)\n",
        "y_pred = tree.predict(X_val)\n",
        "print(classification_report(y_val, y_pred))"
      ],
      "execution_count": 30,
      "outputs": [
        {
          "output_type": "stream",
          "text": [
            "              precision    recall  f1-score   support\n",
            "\n",
            "           0       0.54      0.09      0.15      5191\n",
            "           2       0.53      0.94      0.68     11877\n",
            "           4       0.50      0.13      0.21      6341\n",
            "\n",
            "    accuracy                           0.53     23409\n",
            "   macro avg       0.52      0.39      0.35     23409\n",
            "weighted avg       0.53      0.53      0.43     23409\n",
            "\n"
          ],
          "name": "stdout"
        }
      ]
    },
    {
      "cell_type": "code",
      "metadata": {
        "colab": {
          "base_uri": "https://localhost:8080/"
        },
        "id": "8z-HN0TNlmpQ",
        "outputId": "a5fa1f19-a80c-4449-bd69-c1ce56cff919"
      },
      "source": [
        "clf = MultinomialNB()\n",
        "clf.fit(X_train, y_train)\n",
        "y_pred = clf.predict(X_val)\n",
        "print(classification_report(y_val, y_pred))"
      ],
      "execution_count": 31,
      "outputs": [
        {
          "output_type": "stream",
          "text": [
            "              precision    recall  f1-score   support\n",
            "\n",
            "           0       0.66      0.58      0.61      5191\n",
            "           2       0.70      0.75      0.73     11877\n",
            "           4       0.69      0.66      0.67      6341\n",
            "\n",
            "    accuracy                           0.69     23409\n",
            "   macro avg       0.68      0.66      0.67     23409\n",
            "weighted avg       0.69      0.69      0.69     23409\n",
            "\n"
          ],
          "name": "stdout"
        }
      ]
    },
    {
      "cell_type": "markdown",
      "metadata": {
        "id": "IKyGZ5nqBqFX"
      },
      "source": [
        "# Add more data"
      ]
    },
    {
      "cell_type": "code",
      "metadata": {
        "id": "Mdq6HcLcn9az",
        "colab": {
          "base_uri": "https://localhost:8080/",
          "height": 66,
          "referenced_widgets": [
            "e3d1cae84b7340a4910eed6993815c3e",
            "33d4fdabb8234675a5550024d310ead0",
            "ded2c8ad184348d0ab60614872b9c97f",
            "f109557d8535452fbe0ad342afbda899",
            "3c63ede65efa4a9bb87ffafc412ba706",
            "73277cf15c204267adb376cbbf37e339",
            "60d2f29c2cb742e0b8bb6bb26a07fbe0",
            "681cd7a2965945418a9cf7be974d2103"
          ]
        },
        "outputId": "951a964d-3b7d-470b-ea76-63d691a91e84"
      },
      "source": [
        "more_train_data = pd.read_csv(root_dir + 'labeledTrainData.tsv', header=0, sep='\\t')\n",
        "more_train_data[\"review\"] = [TextPreprocessor()(x) for x in tqdm(more_train_data[\"review\"])]"
      ],
      "execution_count": 32,
      "outputs": [
        {
          "output_type": "display_data",
          "data": {
            "application/vnd.jupyter.widget-view+json": {
              "model_id": "e3d1cae84b7340a4910eed6993815c3e",
              "version_minor": 0,
              "version_major": 2
            },
            "text/plain": [
              "HBox(children=(FloatProgress(value=0.0, max=25000.0), HTML(value='')))"
            ]
          },
          "metadata": {
            "tags": []
          }
        },
        {
          "output_type": "stream",
          "text": [
            "\n"
          ],
          "name": "stdout"
        }
      ]
    },
    {
      "cell_type": "code",
      "metadata": {
        "id": "t97BapH9EYuN"
      },
      "source": [
        "more_train_data.rename(columns={\"review\": \"Phrase\", \"sentiment\": \"Sentiment\"}, inplace=True)\n",
        "more_train_data.loc[more_train_data.Sentiment == 1, 'Sentiment'] = 4\n",
        "add_data = pd.concat([more_train_data, train])"
      ],
      "execution_count": 33,
      "outputs": []
    },
    {
      "cell_type": "code",
      "metadata": {
        "colab": {
          "base_uri": "https://localhost:8080/",
          "height": 312
        },
        "id": "vWNS03xQF1jA",
        "outputId": "a2e8aa24-9ed7-40c1-9ecc-5b55680288f5"
      },
      "source": [
        "sns.countplot(x=add_data.Sentiment, palette='gist_rainbow').set_title(\"Распределение целевой переменной\")"
      ],
      "execution_count": 35,
      "outputs": [
        {
          "output_type": "execute_result",
          "data": {
            "text/plain": [
              "Text(0.5, 1.0, 'Распределение целевой переменной')"
            ]
          },
          "metadata": {
            "tags": []
          },
          "execution_count": 35
        },
        {
          "output_type": "display_data",
          "data": {
            "image/png": "[encoded data removed]",
            "text/plain": [
              "<Figure size 432x288 with 1 Axes>"
            ]
          },
          "metadata": {
            "tags": [],
            "needs_background": "light"
          }
        }
      ]
    },
    {
      "cell_type": "code",
      "metadata": {
        "colab": {
          "base_uri": "https://localhost:8080/",
          "height": 414
        },
        "id": "noeWoTusF7Ip",
        "outputId": "fa54dfbc-6762-4836-b0b2-3edc429b9d0c"
      },
      "source": [
        "add_data"
      ],
      "execution_count": 36,
      "outputs": [
        {
          "output_type": "execute_result",
          "data": {
            "text/html": [
              "<div>\n",
              "<style scoped>\n",
              "    .dataframe tbody tr th:only-of-type {\n",
              "        vertical-align: middle;\n",
              "    }\n",
              "\n",
              "    .dataframe tbody tr th {\n",
              "        vertical-align: top;\n",
              "    }\n",
              "\n",
              "    .dataframe thead th {\n",
              "        text-align: right;\n",
              "    }\n",
              "</style>\n",
              "<table border=\"1\" class=\"dataframe\">\n",
              "  <thead>\n",
              "    <tr style=\"text-align: right;\">\n",
              "      <th></th>\n",
              "      <th>id</th>\n",
              "      <th>Sentiment</th>\n",
              "      <th>Phrase</th>\n",
              "      <th>PhraseId</th>\n",
              "      <th>SentenceId</th>\n",
              "    </tr>\n",
              "  </thead>\n",
              "  <tbody>\n",
              "    <tr>\n",
              "      <th>0</th>\n",
              "      <td>5814_8</td>\n",
              "      <td>4</td>\n",
              "      <td>stuff go moment mj start listen music watch od...</td>\n",
              "      <td>NaN</td>\n",
              "      <td>NaN</td>\n",
              "    </tr>\n",
              "    <tr>\n",
              "      <th>1</th>\n",
              "      <td>2381_9</td>\n",
              "      <td>4</td>\n",
              "      <td>classic war worlds timothy hines entertain fil...</td>\n",
              "      <td>NaN</td>\n",
              "      <td>NaN</td>\n",
              "    </tr>\n",
              "    <tr>\n",
              "      <th>2</th>\n",
              "      <td>7759_3</td>\n",
              "      <td>0</td>\n",
              "      <td>film start manager nicholas bell give welcome ...</td>\n",
              "      <td>NaN</td>\n",
              "      <td>NaN</td>\n",
              "    </tr>\n",
              "    <tr>\n",
              "      <th>3</th>\n",
              "      <td>3630_4</td>\n",
              "      <td>0</td>\n",
              "      <td>must assume praise film great film opera ever ...</td>\n",
              "      <td>NaN</td>\n",
              "      <td>NaN</td>\n",
              "    </tr>\n",
              "    <tr>\n",
              "      <th>4</th>\n",
              "      <td>9495_8</td>\n",
              "      <td>4</td>\n",
              "      <td>superbly trashy wondrously unpretentious explo...</td>\n",
              "      <td>NaN</td>\n",
              "      <td>NaN</td>\n",
              "    </tr>\n",
              "    <tr>\n",
              "      <th>...</th>\n",
              "      <td>...</td>\n",
              "      <td>...</td>\n",
              "      <td>...</td>\n",
              "      <td>...</td>\n",
              "      <td>...</td>\n",
              "    </tr>\n",
              "    <tr>\n",
              "      <th>156055</th>\n",
              "      <td>NaN</td>\n",
              "      <td>2</td>\n",
              "      <td>hearst</td>\n",
              "      <td>156056.0</td>\n",
              "      <td>8544.0</td>\n",
              "    </tr>\n",
              "    <tr>\n",
              "      <th>156056</th>\n",
              "      <td>NaN</td>\n",
              "      <td>1</td>\n",
              "      <td>force avuncular chortle</td>\n",
              "      <td>156057.0</td>\n",
              "      <td>8544.0</td>\n",
              "    </tr>\n",
              "    <tr>\n",
              "      <th>156057</th>\n",
              "      <td>NaN</td>\n",
              "      <td>3</td>\n",
              "      <td>avuncular chortle</td>\n",
              "      <td>156058.0</td>\n",
              "      <td>8544.0</td>\n",
              "    </tr>\n",
              "    <tr>\n",
              "      <th>156058</th>\n",
              "      <td>NaN</td>\n",
              "      <td>2</td>\n",
              "      <td>avuncular</td>\n",
              "      <td>156059.0</td>\n",
              "      <td>8544.0</td>\n",
              "    </tr>\n",
              "    <tr>\n",
              "      <th>156059</th>\n",
              "      <td>NaN</td>\n",
              "      <td>2</td>\n",
              "      <td>chortle</td>\n",
              "      <td>156060.0</td>\n",
              "      <td>8544.0</td>\n",
              "    </tr>\n",
              "  </tbody>\n",
              "</table>\n",
              "<p>181060 rows × 5 columns</p>\n",
              "</div>"
            ],
            "text/plain": [
              "            id  Sentiment  ...  PhraseId  SentenceId\n",
              "0       5814_8          4  ...       NaN         NaN\n",
              "1       2381_9          4  ...       NaN         NaN\n",
              "2       7759_3          0  ...       NaN         NaN\n",
              "3       3630_4          0  ...       NaN         NaN\n",
              "4       9495_8          4  ...       NaN         NaN\n",
              "...        ...        ...  ...       ...         ...\n",
              "156055     NaN          2  ...  156056.0      8544.0\n",
              "156056     NaN          1  ...  156057.0      8544.0\n",
              "156057     NaN          3  ...  156058.0      8544.0\n",
              "156058     NaN          2  ...  156059.0      8544.0\n",
              "156059     NaN          2  ...  156060.0      8544.0\n",
              "\n",
              "[181060 rows x 5 columns]"
            ]
          },
          "metadata": {
            "tags": []
          },
          "execution_count": 36
        }
      ]
    },
    {
      "cell_type": "code",
      "metadata": {
        "colab": {
          "base_uri": "https://localhost:8080/"
        },
        "id": "-DD5pF1gIyz1",
        "outputId": "6d3b4d76-27bd-4047-a8cc-f3fc968fabea"
      },
      "source": [
        "X = vectorizer.fit_transform(add_data.Phrase.values)\n",
        "y = add_data.Sentiment.values\n",
        "X_train, X_val, y_train, y_val = train_test_split(X, y, test_size=0.15, random_state=21)\n",
        "\n",
        "logreg = LogisticRegression(multi_class=\"multinomial\", random_state=42, max_iter=1000)\n",
        "logreg.fit(X_train, y_train)\n",
        "y_pred = logreg.predict(X_val)\n",
        "print(classification_report(y_val, y_pred))"
      ],
      "execution_count": 37,
      "outputs": [
        {
          "output_type": "stream",
          "text": [
            "              precision    recall  f1-score   support\n",
            "\n",
            "           0       0.78      0.64      0.71      2879\n",
            "           1       0.56      0.40      0.47      4176\n",
            "           2       0.69      0.87      0.77     11863\n",
            "           3       0.58      0.47      0.52      4978\n",
            "           4       0.79      0.63      0.70      3263\n",
            "\n",
            "    accuracy                           0.67     27159\n",
            "   macro avg       0.68      0.60      0.63     27159\n",
            "weighted avg       0.67      0.67      0.66     27159\n",
            "\n"
          ],
          "name": "stdout"
        }
      ]
    },
    {
      "cell_type": "markdown",
      "metadata": {
        "id": "pQWzLtdS6gxU"
      },
      "source": [
        "#Oversampling"
      ]
    },
    {
      "cell_type": "code",
      "metadata": {
        "colab": {
          "base_uri": "https://localhost:8080/"
        },
        "id": "IuUIuEIP6gHI",
        "outputId": "55361b47-bb61-4b8e-fc6e-8e733477ab5d"
      },
      "source": [
        "train.Sentiment.value_counts()"
      ],
      "execution_count": 38,
      "outputs": [
        {
          "output_type": "execute_result",
          "data": {
            "text/plain": [
              "2    79582\n",
              "3    32927\n",
              "1    27273\n",
              "4     9206\n",
              "0     7072\n",
              "Name: Sentiment, dtype: int64"
            ]
          },
          "metadata": {
            "tags": []
          },
          "execution_count": 38
        }
      ]
    },
    {
      "cell_type": "code",
      "metadata": {
        "colab": {
          "base_uri": "https://localhost:8080/"
        },
        "id": "I__JhWKf8Chq",
        "outputId": "71c56bf1-d318-4baa-e739-644d3eb47ae2"
      },
      "source": [
        "oversampled_data = pd.concat([train, train[train.Sentiment != 2]])\n",
        "oversampled_data = pd.concat([oversampled_data, oversampled_data[oversampled_data.Sentiment == 4]])\n",
        "oversampled_data = pd.concat([oversampled_data, oversampled_data[oversampled_data.Sentiment == 4]])\n",
        "oversampled_data = pd.concat([oversampled_data, oversampled_data[oversampled_data.Sentiment == 0]])\n",
        "oversampled_data = pd.concat([oversampled_data, oversampled_data[oversampled_data.Sentiment == 0]])\n",
        "oversampled_data.Sentiment.value_counts()"
      ],
      "execution_count": 39,
      "outputs": [
        {
          "output_type": "execute_result",
          "data": {
            "text/plain": [
              "2    79582\n",
              "4    73648\n",
              "3    65854\n",
              "0    56576\n",
              "1    54546\n",
              "Name: Sentiment, dtype: int64"
            ]
          },
          "metadata": {
            "tags": []
          },
          "execution_count": 39
        }
      ]
    },
    {
      "cell_type": "code",
      "metadata": {
        "colab": {
          "base_uri": "https://localhost:8080/",
          "height": 312
        },
        "id": "bwNXqYjg9LO4",
        "outputId": "12162419-9942-4299-9ac1-b2a8da05add8"
      },
      "source": [
        "sns.countplot(x=oversampled_data.Sentiment, palette='gist_rainbow').set_title(\"Распределение целевой переменной\")"
      ],
      "execution_count": 41,
      "outputs": [
        {
          "output_type": "execute_result",
          "data": {
            "text/plain": [
              "Text(0.5, 1.0, 'Распределение целевой переменной')"
            ]
          },
          "metadata": {
            "tags": []
          },
          "execution_count": 41
        },
        {
          "output_type": "display_data",
          "data": {
            "image/png": "[encoded data removed]",
            "text/plain": [
              "<Figure size 432x288 with 1 Axes>"
            ]
          },
          "metadata": {
            "tags": [],
            "needs_background": "light"
          }
        }
      ]
    },
    {
      "cell_type": "code",
      "metadata": {
        "id": "N3jvNgQy9ZuW"
      },
      "source": [
        "X = vectorizer.fit_transform(oversampled_data.Phrase.values)\n",
        "y = oversampled_data.Sentiment.values\n",
        "X_train, X_val, y_train, y_val = train_test_split(X, y, test_size=0.15, random_state=21)"
      ],
      "execution_count": 42,
      "outputs": []
    },
    {
      "cell_type": "code",
      "metadata": {
        "colab": {
          "base_uri": "https://localhost:8080/"
        },
        "id": "Fa_c89ZOmww2",
        "outputId": "9ad9ecae-eced-439a-a42c-f5f8c45b7bc3"
      },
      "source": [
        "logreg = LogisticRegression(multi_class=\"multinomial\", random_state=42, max_iter=1000)\n",
        "logreg.fit(X_train, y_train)\n",
        "y_pred = logreg.predict(X_val)\n",
        "print(classification_report(y_val, y_pred))"
      ],
      "execution_count": 43,
      "outputs": [
        {
          "output_type": "stream",
          "text": [
            "              precision    recall  f1-score   support\n",
            "\n",
            "           0       0.77      0.86      0.81      8427\n",
            "           1       0.62      0.47      0.53      8264\n",
            "           2       0.64      0.74      0.68     11954\n",
            "           3       0.59      0.49      0.54      9739\n",
            "           4       0.78      0.84      0.81     11147\n",
            "\n",
            "    accuracy                           0.69     49531\n",
            "   macro avg       0.68      0.68      0.68     49531\n",
            "weighted avg       0.68      0.69      0.68     49531\n",
            "\n"
          ],
          "name": "stdout"
        }
      ]
    },
    {
      "cell_type": "code",
      "metadata": {
        "colab": {
          "base_uri": "https://localhost:8080/"
        },
        "id": "6dxtCguGmz1n",
        "outputId": "d18590d7-5a6b-4210-df20-b285b6523582"
      },
      "source": [
        "gb_cls = GradientBoostingClassifier(random_state=42)\n",
        "gb_cls.fit(X_train, y_train)\n",
        "y_pred = gb_cls.predict(X_val)\n",
        "print(classification_report(y_val, y_pred))"
      ],
      "execution_count": 44,
      "outputs": [
        {
          "output_type": "stream",
          "text": [
            "              precision    recall  f1-score   support\n",
            "\n",
            "           0       0.71      0.37      0.49      8427\n",
            "           1       0.44      0.11      0.17      8264\n",
            "           2       0.35      0.84      0.50     11954\n",
            "           3       0.38      0.13      0.20      9739\n",
            "           4       0.56      0.57      0.56     11147\n",
            "\n",
            "    accuracy                           0.44     49531\n",
            "   macro avg       0.49      0.40      0.38     49531\n",
            "weighted avg       0.48      0.44      0.40     49531\n",
            "\n"
          ],
          "name": "stdout"
        }
      ]
    },
    {
      "cell_type": "code",
      "metadata": {
        "colab": {
          "base_uri": "https://localhost:8080/"
        },
        "id": "Zn2he2XQm7sG",
        "outputId": "ce17010b-ee56-449b-88a0-bff782c3391f"
      },
      "source": [
        "tree = DecisionTreeClassifier(random_state=42, max_depth=7, criterion='entropy')\n",
        "tree.fit(X_train, y_train)\n",
        "y_pred = tree.predict(X_val)\n",
        "print(classification_report(y_val, y_pred))"
      ],
      "execution_count": 45,
      "outputs": [
        {
          "output_type": "stream",
          "text": [
            "              precision    recall  f1-score   support\n",
            "\n",
            "           0       0.42      0.21      0.28      8427\n",
            "           1       0.33      0.04      0.08      8264\n",
            "           2       0.27      0.92      0.42     11954\n",
            "           3       0.67      0.00      0.00      9739\n",
            "           4       0.51      0.19      0.28     11147\n",
            "\n",
            "    accuracy                           0.31     49531\n",
            "   macro avg       0.44      0.27      0.21     49531\n",
            "weighted avg       0.44      0.31      0.23     49531\n",
            "\n"
          ],
          "name": "stdout"
        }
      ]
    },
    {
      "cell_type": "code",
      "metadata": {
        "colab": {
          "base_uri": "https://localhost:8080/"
        },
        "id": "oKBZ3N0SnCDH",
        "outputId": "960e6b5b-f6e9-4822-eb63-4181f144d110"
      },
      "source": [
        "clf = MultinomialNB()\n",
        "clf.fit(X_train, y_train)\n",
        "y_pred = clf.predict(X_val)\n",
        "print(classification_report(y_val, y_pred))"
      ],
      "execution_count": 46,
      "outputs": [
        {
          "output_type": "stream",
          "text": [
            "              precision    recall  f1-score   support\n",
            "\n",
            "           0       0.58      0.79      0.67      8427\n",
            "           1       0.50      0.40      0.44      8264\n",
            "           2       0.58      0.44      0.50     11954\n",
            "           3       0.49      0.39      0.43      9739\n",
            "           4       0.60      0.80      0.69     11147\n",
            "\n",
            "    accuracy                           0.56     49531\n",
            "   macro avg       0.55      0.56      0.55     49531\n",
            "weighted avg       0.55      0.56      0.55     49531\n",
            "\n"
          ],
          "name": "stdout"
        }
      ]
    },
    {
      "cell_type": "markdown",
      "metadata": {
        "id": "g0clWmP8EBSI"
      },
      "source": [
        "# SMOTE"
      ]
    },
    {
      "cell_type": "code",
      "metadata": {
        "colab": {
          "base_uri": "https://localhost:8080/"
        },
        "id": "fxhYGogeEI0m",
        "outputId": "e30030b9-c0a7-4489-d001-ab7a1af3ca0d"
      },
      "source": [
        "from imblearn.over_sampling import SMOTE"
      ],
      "execution_count": 47,
      "outputs": [
        {
          "output_type": "stream",
          "text": [
            "/usr/local/lib/python3.7/dist-packages/sklearn/externals/six.py:31: FutureWarning: The module is deprecated in version 0.21 and will be removed in version 0.23 since we've dropped support for Python 2.7. Please rely on the official version of six (https://pypi.org/project/six/).\n",
            "  \"(https://pypi.org/project/six/).\", FutureWarning)\n",
            "/usr/local/lib/python3.7/dist-packages/sklearn/utils/deprecation.py:144: FutureWarning: The sklearn.neighbors.base module is  deprecated in version 0.22 and will be removed in version 0.24. The corresponding classes / functions should instead be imported from sklearn.neighbors. Anything that cannot be imported from sklearn.neighbors is now part of the private API.\n",
            "  warnings.warn(message, FutureWarning)\n"
          ],
          "name": "stderr"
        }
      ]
    },
    {
      "cell_type": "code",
      "metadata": {
        "colab": {
          "base_uri": "https://localhost:8080/"
        },
        "id": "jynCc3EkEUM3",
        "outputId": "f7db578f-75eb-4730-a618-184011eade9d"
      },
      "source": [
        "X = vectorizer.fit_transform(train.Phrase.values)\n",
        "y = train.Sentiment.values\n",
        "\n",
        "X_smote, y_smote = SMOTE().fit_resample(X, y)\n",
        "X_train, X_val, y_train, y_val = train_test_split(X_smote, y_smote, test_size=0.15, random_state=21)"
      ],
      "execution_count": 48,
      "outputs": [
        {
          "output_type": "stream",
          "text": [
            "/usr/local/lib/python3.7/dist-packages/sklearn/utils/deprecation.py:87: FutureWarning: Function safe_indexing is deprecated; safe_indexing is deprecated in version 0.22 and will be removed in version 0.24.\n",
            "  warnings.warn(msg, category=FutureWarning)\n"
          ],
          "name": "stderr"
        }
      ]
    },
    {
      "cell_type": "code",
      "metadata": {
        "colab": {
          "base_uri": "https://localhost:8080/",
          "height": 297
        },
        "id": "jd_2_W_1EuTX",
        "outputId": "8f1dd71d-1967-4940-fbe1-5627929d35cf"
      },
      "source": [
        "sns.countplot(x=y_smote,  palette='gist_rainbow').set_title(\"Распределение целевой переменной\")"
      ],
      "execution_count": 51,
      "outputs": [
        {
          "output_type": "execute_result",
          "data": {
            "text/plain": [
              "Text(0.5, 1.0, 'Распределение целевой переменной')"
            ]
          },
          "metadata": {
            "tags": []
          },
          "execution_count": 51
        },
        {
          "output_type": "display_data",
          "data": {
            "image/png": "[encoded data removed]",
            "text/plain": [
              "<Figure size 432x288 with 1 Axes>"
            ]
          },
          "metadata": {
            "tags": [],
            "needs_background": "light"
          }
        }
      ]
    },
    {
      "cell_type": "code",
      "metadata": {
        "colab": {
          "base_uri": "https://localhost:8080/"
        },
        "id": "MTjs1Y6KGi2l",
        "outputId": "50616f2b-bd75-4cae-d8c0-54820be0e47c"
      },
      "source": [
        "logreg = LogisticRegression(multi_class=\"multinomial\", random_state=42, max_iter=1000)\n",
        "logreg.fit(X_train, y_train)\n",
        "y_pred = logreg.predict(X_val)\n",
        "print(classification_report(y_val, y_pred))"
      ],
      "execution_count": 52,
      "outputs": [
        {
          "output_type": "stream",
          "text": [
            "              precision    recall  f1-score   support\n",
            "\n",
            "           0       0.69      0.72      0.70     11986\n",
            "           1       0.63      0.50      0.56     11945\n",
            "           2       0.43      0.55      0.48     11953\n",
            "           3       0.59      0.47      0.52     11900\n",
            "           4       0.70      0.75      0.73     11903\n",
            "\n",
            "    accuracy                           0.60     59687\n",
            "   macro avg       0.61      0.60      0.60     59687\n",
            "weighted avg       0.61      0.60      0.60     59687\n",
            "\n"
          ],
          "name": "stdout"
        }
      ]
    },
    {
      "cell_type": "code",
      "metadata": {
        "colab": {
          "base_uri": "https://localhost:8080/"
        },
        "id": "091zqM4snKdP",
        "outputId": "bcf27e32-b8e2-430a-b948-4a8c049405db"
      },
      "source": [
        "gb_cls = GradientBoostingClassifier(random_state=42)\n",
        "gb_cls.fit(X_train, y_train)\n",
        "y_pred = gb_cls.predict(X_val)\n",
        "print(classification_report(y_val, y_pred))"
      ],
      "execution_count": 53,
      "outputs": [
        {
          "output_type": "stream",
          "text": [
            "              precision    recall  f1-score   support\n",
            "\n",
            "           0       0.65      0.40      0.49     11986\n",
            "           1       0.50      0.21      0.30     11945\n",
            "           2       0.29      0.76      0.42     11953\n",
            "           3       0.42      0.22      0.29     11900\n",
            "           4       0.59      0.50      0.54     11903\n",
            "\n",
            "    accuracy                           0.42     59687\n",
            "   macro avg       0.49      0.42      0.41     59687\n",
            "weighted avg       0.49      0.42      0.41     59687\n",
            "\n"
          ],
          "name": "stdout"
        }
      ]
    },
    {
      "cell_type": "code",
      "metadata": {
        "colab": {
          "base_uri": "https://localhost:8080/"
        },
        "id": "4fXzfKSwnOgM",
        "outputId": "3599450a-72e2-470b-f3a6-2af98b063f0b"
      },
      "source": [
        "tree = DecisionTreeClassifier(random_state=42, max_depth=7, criterion='entropy')\n",
        "tree.fit(X_train, y_train)\n",
        "y_pred = tree.predict(X_val)\n",
        "print(classification_report(y_val, y_pred))"
      ],
      "execution_count": 54,
      "outputs": [
        {
          "output_type": "stream",
          "text": [
            "              precision    recall  f1-score   support\n",
            "\n",
            "           0       0.72      0.11      0.19     11986\n",
            "           1       0.44      0.04      0.07     11945\n",
            "           2       0.21      0.97      0.35     11953\n",
            "           3       0.67      0.00      0.00     11900\n",
            "           4       0.63      0.14      0.23     11903\n",
            "\n",
            "    accuracy                           0.25     59687\n",
            "   macro avg       0.53      0.25      0.17     59687\n",
            "weighted avg       0.53      0.25      0.17     59687\n",
            "\n"
          ],
          "name": "stdout"
        }
      ]
    },
    {
      "cell_type": "code",
      "metadata": {
        "colab": {
          "base_uri": "https://localhost:8080/"
        },
        "id": "MmZXLWlznWxb",
        "outputId": "f61bdf6c-76f4-486e-b533-7e816ca02b78"
      },
      "source": [
        "clf = MultinomialNB()\n",
        "clf.fit(X_train, y_train)\n",
        "y_pred = clf.predict(X_val)\n",
        "print(classification_report(y_val, y_pred))"
      ],
      "execution_count": 55,
      "outputs": [
        {
          "output_type": "stream",
          "text": [
            "              precision    recall  f1-score   support\n",
            "\n",
            "           0       0.62      0.70      0.65     11986\n",
            "           1       0.55      0.45      0.50     11945\n",
            "           2       0.62      0.37      0.46     11953\n",
            "           3       0.43      0.51      0.47     11900\n",
            "           4       0.61      0.77      0.68     11903\n",
            "\n",
            "    accuracy                           0.56     59687\n",
            "   macro avg       0.56      0.56      0.55     59687\n",
            "weighted avg       0.57      0.56      0.55     59687\n",
            "\n"
          ],
          "name": "stdout"
        }
      ]
    },
    {
      "cell_type": "markdown",
      "metadata": {
        "id": "qKfdjBpR4NpV"
      },
      "source": [
        "# word2vec"
      ]
    },
    {
      "cell_type": "code",
      "metadata": {
        "id": "Mr9Hl7FO4LOr"
      },
      "source": [
        "from gensim.models import word2vec"
      ],
      "execution_count": 56,
      "outputs": []
    },
    {
      "cell_type": "code",
      "metadata": {
        "colab": {
          "base_uri": "https://localhost:8080/"
        },
        "id": "H-CxWEFa4lK8",
        "outputId": "d52bf796-0637-476d-91b7-5be16d83152e"
      },
      "source": [
        "!pip install cython"
      ],
      "execution_count": 57,
      "outputs": [
        {
          "output_type": "stream",
          "text": [
            "Requirement already satisfied: cython in /usr/local/lib/python3.7/dist-packages (0.29.23)\n"
          ],
          "name": "stdout"
        }
      ]
    },
    {
      "cell_type": "code",
      "metadata": {
        "id": "OJTYoUXu2qFV"
      },
      "source": [
        "class TextToList:\n",
        "  def __call__(self, text):\n",
        "        tokens = nltk.word_tokenize(text)\n",
        "        return [\n",
        "            token for token in tokens\n",
        "        ]"
      ],
      "execution_count": 61,
      "outputs": []
    },
    {
      "cell_type": "code",
      "metadata": {
        "colab": {
          "base_uri": "https://localhost:8080/",
          "height": 66,
          "referenced_widgets": [
            "8a3443efdd36418a8d549fec4df69216",
            "b25dde32f2ba4a0a9893a019b5ef1d07",
            "590353c37a3c42efa393d632e753d0d2",
            "1d7c99245d11475981208f2abc2d1567",
            "51201e5f9be44659afbed08021085536",
            "cc1768d0bd7c4f3cb684c4dba3c36154",
            "2d65ceea4829493e9a2ce7e5f6cf4e1b",
            "51ad0f5d117f4bd4975c16ebd00c6d6a"
          ]
        },
        "id": "JMRbykxb21W2",
        "outputId": "95cd5a32-fc1a-4001-86d5-352c80bc2da2"
      },
      "source": [
        "train[\"Phrase\"] =  [TextToList()(x) for x in tqdm(train[\"Phrase\"])]"
      ],
      "execution_count": 63,
      "outputs": [
        {
          "output_type": "display_data",
          "data": {
            "application/vnd.jupyter.widget-view+json": {
              "model_id": "8a3443efdd36418a8d549fec4df69216",
              "version_minor": 0,
              "version_major": 2
            },
            "text/plain": [
              "HBox(children=(FloatProgress(value=0.0, max=156060.0), HTML(value='')))"
            ]
          },
          "metadata": {
            "tags": []
          }
        },
        {
          "output_type": "stream",
          "text": [
            "\n"
          ],
          "name": "stdout"
        }
      ]
    },
    {
      "cell_type": "code",
      "metadata": {
        "id": "UxR3xDiA4ZvJ"
      },
      "source": [
        "num_features = 300    # Word vector dimensionality                      \n",
        "min_word_count = 1   # Minimum word count                        \n",
        "num_workers = 4       # Number of threads to run in parallel\n",
        "context = 10          # Context window size                                                                                    \n",
        "downsampling = 1e-3 \n",
        "\n",
        "model = word2vec.Word2Vec(train.Phrase.values, workers=num_workers, \\\n",
        "            size=num_features, min_count = min_word_count, \\\n",
        "            window = context, sample = downsampling)"
      ],
      "execution_count": 66,
      "outputs": []
    },
    {
      "cell_type": "code",
      "metadata": {
        "id": "O8uW5mRw5B1j",
        "colab": {
          "base_uri": "https://localhost:8080/"
        },
        "outputId": "c960221c-7d6b-48d1-a774-c0def38bc94e"
      },
      "source": [
        "model.most_similar(\"good\")"
      ],
      "execution_count": 67,
      "outputs": [
        {
          "output_type": "stream",
          "text": [
            "/usr/local/lib/python3.7/dist-packages/ipykernel_launcher.py:1: DeprecationWarning: Call to deprecated `most_similar` (Method will be removed in 4.0.0, use self.wv.most_similar() instead).\n",
            "  \"\"\"Entry point for launching an IPython kernel.\n"
          ],
          "name": "stderr"
        },
        {
          "output_type": "execute_result",
          "data": {
            "text/plain": [
              "[('frat', 0.7747133374214172),\n",
              " ('skirt', 0.7629051804542542),\n",
              " ('reyes', 0.7603274583816528),\n",
              " ('earthly', 0.7403990626335144),\n",
              " ('sensationalize', 0.7352858781814575),\n",
              " ('caliber', 0.7283518314361572),\n",
              " ('clam', 0.7224575281143188),\n",
              " ('list', 0.7160661220550537),\n",
              " ('edit', 0.7105578184127808),\n",
              " ('idea', 0.7070690393447876)]"
            ]
          },
          "metadata": {
            "tags": []
          },
          "execution_count": 67
        }
      ]
    },
    {
      "cell_type": "code",
      "metadata": {
        "colab": {
          "base_uri": "https://localhost:8080/"
        },
        "id": "lJb9Cp6BmAHu",
        "outputId": "420ae211-aec7-4c60-ffcd-a9a1207e1639"
      },
      "source": [
        "model.most_similar(\"excellent\")"
      ],
      "execution_count": 70,
      "outputs": [
        {
          "output_type": "stream",
          "text": [
            "/usr/local/lib/python3.7/dist-packages/ipykernel_launcher.py:1: DeprecationWarning: Call to deprecated `most_similar` (Method will be removed in 4.0.0, use self.wv.most_similar() instead).\n",
            "  \"\"\"Entry point for launching an IPython kernel.\n"
          ],
          "name": "stderr"
        },
        {
          "output_type": "execute_result",
          "data": {
            "text/plain": [
              "[('receives', 0.9733031988143921),\n",
              " ('denzel', 0.9723120927810669),\n",
              " ('vanessa', 0.9651637077331543),\n",
              " ('washington', 0.9650337100028992),\n",
              " ('piccoli', 0.9630882143974304),\n",
              " ('redgrave', 0.9627469182014465),\n",
              " ('ferrera', 0.9613833427429199),\n",
              " ('workshop', 0.9608651995658875),\n",
              " ('ontiveros', 0.9590384364128113),\n",
              " ('enhances', 0.9577794671058655)]"
            ]
          },
          "metadata": {
            "tags": []
          },
          "execution_count": 70
        }
      ]
    },
    {
      "cell_type": "markdown",
      "metadata": {
        "id": "gKlDgEzck9oa"
      },
      "source": [
        "# Submission"
      ]
    },
    {
      "cell_type": "code",
      "metadata": {
        "id": "Cl44v2Bnkf7U"
      },
      "source": [
        "X = vectorizer.transform(test.Phrase.values)\n",
        "y_pred = logreg.predict(X)\n",
        "\n",
        "submission = pd.read_csv(root_dir + 'sampleSubmission.csv', header=0, index_col='PhraseId')\n",
        "submission['Sentiment'] = y_pred\n",
        "submission.to_csv('submission.csv')\n",
        "submission.head()"
      ],
      "execution_count": null,
      "outputs": []
    }
  ]
}